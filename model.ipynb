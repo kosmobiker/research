{
 "metadata": {
  "language_info": {
   "codemirror_mode": {
    "name": "ipython",
    "version": 3
   },
   "file_extension": ".py",
   "mimetype": "text/x-python",
   "name": "python",
   "nbconvert_exporter": "python",
   "pygments_lexer": "ipython3",
   "version": "3.9.1-final"
  },
  "orig_nbformat": 2,
  "kernelspec": {
   "name": "python3",
   "display_name": "Python 3.9.1 64-bit",
   "metadata": {
    "interpreter": {
     "hash": "1f5b50453fd9f372111fc96a665fefebae91c58c2c5b56303c56eabba6b14ae0"
    }
   }
  }
 },
 "nbformat": 4,
 "nbformat_minor": 2,
 "cells": [
  {
   "cell_type": "code",
   "execution_count": 94,
   "metadata": {},
   "outputs": [],
   "source": [
    "import numpy as np\n",
    "import pandas as pd\n",
    "import nltk\n",
    "import warnings\n",
    "warnings.filterwarnings('ignore')\n",
    "# nltk.download('stopwords')\n",
    "# nltk.download('wordnet')\n",
    "from nltk import sent_tokenize, word_tokenize\n",
    "from nltk.stem.snowball import SnowballStemmer\n",
    "from nltk.stem.wordnet import WordNetLemmatizer\n",
    "from nltk.corpus import stopwords\n",
    "from nltk.stem.porter import *\n",
    "import string\n",
    "from sklearn.preprocessing import OneHotEncoder\n",
    "from sklearn.feature_extraction import DictVectorizer\n",
    "from sklearn.feature_extraction.text import CountVectorizer\n",
    "from sklearn.feature_extraction.text import TfidfTransformer\n",
    "from sklearn.feature_extraction.text import TfidfVectorizer\n",
    "from sklearn.pipeline import Pipeline\n",
    "\n",
    "from scipy.sparse import coo_matrix, hstack\n",
    "from sklearn.model_selection import train_test_split\n",
    "from sklearn.linear_model import RidgeClassifier\n",
    "from sklearn.linear_model import LogisticRegression\n",
    "from sklearn.metrics import f1_score, roc_auc_score, accuracy_score\n",
    "from sklearn.model_selection import RandomizedSearchCV, GridSearchCV\n",
    "from sklearn.model_selection import StratifiedKFold\n",
    "from sklearn.naive_bayes import MultinomialNB\n",
    "from sklearn import svm\n",
    "import matplotlib.pyplot as plt\n",
    "import seaborn as sns\n",
    "import pickle\n"
   ]
  },
  {
   "cell_type": "code",
   "execution_count": 63,
   "metadata": {},
   "outputs": [],
   "source": [
    "SEED = 42"
   ]
  },
  {
   "cell_type": "code",
   "execution_count": 64,
   "metadata": {},
   "outputs": [],
   "source": [
    "list_businesses = [line.strip() for line in open(\"list_of_businesses.txt\", 'r')]\n",
    "list_hs_codes = [line.strip() for line in open(\"list_hs_codes.txt\", 'r')]\n",
    "list_strengthes = [line.strip() for line in open(\"list_strengthes.txt\", 'r')]"
   ]
  },
  {
   "cell_type": "code",
   "execution_count": 65,
   "metadata": {},
   "outputs": [],
   "source": [
    "def prepare_data(path, status, threshold=None):\n",
    "    \"\"\"\n",
    "    path, str to dataset, e.g 'model_passed_review.csv'\n",
    "    status, could be 'passed' or 'failed'\n",
    "    threshold - limit the number of rows in dataset\n",
    "    e.g. prepare_data('model_passed_review.csv', 'passed')\n",
    "    \"\"\"\n",
    "    df = pd.read_csv(path, header = None)\n",
    "    \n",
    "    df = df.drop([4, 5], axis=1)\n",
    "    df = df.rename(columns=\n",
    "                       {0 : \"Business\", \n",
    "                        1 : \"Part_number\",\n",
    "                        2 : \"Part_description\",\n",
    "                        3 : \"HS_code\",\n",
    "                        6 : \"Audit_trail\",\n",
    "                        7 : \"Strength\"})\n",
    "    df = df.drop_duplicates(subset=['Audit_trail', 'HS_code']).reset_index(drop=True)\n",
    "    #threshold\n",
    "    if threshold != None:\n",
    "        df = df.sample(random_state=SEED, frac=1).reset_index(drop=True)\n",
    "        df = df[:threshold]\n",
    "\n",
    "    df = df.fillna('missed_data')\n",
    "    df['HS_code'] = df['HS_code'].astype('str')\n",
    "    df['Strength'] = df['Strength'].astype('str')\n",
    "    #converting the missing strengthes\n",
    "    df['Business'] = df['Business'].apply(lambda x: x if x in list_businesses else 'unknown')\n",
    "    df['HS_code'] = df['HS_code'].apply(lambda x: x if x in list_hs_codes else 'unknown')\n",
    "    df['Strength'] = df['Strength'].apply(lambda x: x if x in list_strengthes else 'unknown')\n",
    "    #adding the label\n",
    "    if status == \"passed\":\n",
    "        df['Failed'] = 0\n",
    "    else:\n",
    "        df['Failed'] = 1\n",
    "    df_text = df['Part_description'] + \"  \" + df['Audit_trail']\n",
    "    df_partnumber = df['Part_number']\n",
    "    df_features = df[['Business', 'HS_code', 'Strength']]\n",
    "    y = df['Failed']\n",
    "\n",
    "    return df_text, df_partnumber, df_features, y"
   ]
  },
  {
   "cell_type": "code",
   "execution_count": 66,
   "metadata": {},
   "outputs": [],
   "source": [
    "passed_text, passed_partnumber, passed_features, y_passed = prepare_data('model_passed_review.csv', 'passed', threshold=40000)\n",
    "failed_text, failed_partnumber, failed_features, y_failed = prepare_data('model_failed_review.csv', 'failed', threshold=40000)"
   ]
  },
  {
   "cell_type": "code",
   "execution_count": 67,
   "metadata": {},
   "outputs": [],
   "source": [
    "df_train_text = pd.concat([passed_text, failed_text], ignore_index=True)\n",
    "df_train_partnumber = pd.concat([passed_partnumber, failed_partnumber], ignore_index=True)\n",
    "df_train_features = pd.concat([passed_features, failed_features], ignore_index=True)\n",
    "y = pd.concat([y_passed, y_failed], ignore_index=True)"
   ]
  },
  {
   "cell_type": "code",
   "execution_count": 68,
   "metadata": {},
   "outputs": [],
   "source": [
    "def remove_URL(text):\n",
    "    url = re.compile(r'https?://\\S+|www\\.\\S+')\n",
    "    return url.sub(r'',text)\n",
    "\n",
    "def remove_punct(text):\n",
    "    table = str.maketrans('','',string.punctuation)\n",
    "    return text.translate(table)\n",
    "\n",
    "cachedStopWords = stopwords.words(\"english\")\n",
    "\n",
    "# def remove_stopwords(text):\n",
    "#     text = ' '.join([word for word in text.split() if word not in cachedStopWords])\n",
    "#     return text\n",
    "\n",
    "stemmer = SnowballStemmer('english')\n",
    "#stemmer = PorterStemmer()\n",
    "#lemmatizer = WordNetLemmatizer()"
   ]
  },
  {
   "cell_type": "code",
   "execution_count": 69,
   "metadata": {},
   "outputs": [],
   "source": [
    "#The function takes as input dataset and columns to process\n",
    "def clean_data(df):\n",
    "    df = df.apply(lambda x : remove_URL(x))\n",
    "    df = df.apply(lambda x : remove_punct(x))\n",
    "    # df = df.apply(lambda x : remove_stopwords(x))\n",
    "    df = df.apply(lambda x : stemmer.stem(x))\n",
    "    # df = df.apply(lambda x : lemmatizer.lemmatize(x))\n",
    "\n",
    "    return df"
   ]
  },
  {
   "cell_type": "code",
   "execution_count": 70,
   "metadata": {},
   "outputs": [],
   "source": [
    "df_cleaned_train_text = clean_data(df_train_text)\n",
    "# print('text reducing is ', len(\" \".join(df_cleaned_train_text))/len(\" \".join(df_train_text)))"
   ]
  },
  {
   "cell_type": "code",
   "execution_count": 71,
   "metadata": {},
   "outputs": [
    {
     "output_type": "execute_result",
     "data": {
      "text/plain": [
       "'push button switchdescentascent  per attached engineer response this is a push button switch it is rated for 230 v and 4 a it is not electromechanical snap on switch not for use in aircraft'"
      ]
     },
     "metadata": {},
     "execution_count": 71
    }
   ],
   "source": [
    "df_cleaned_train_text[8653]"
   ]
  },
  {
   "cell_type": "code",
   "execution_count": 72,
   "metadata": {},
   "outputs": [],
   "source": [
    "MAX_DF = 0.8\n",
    "MIN_COUNT = 5\n",
    "NGRAMS = (1, 2)\n",
    "MAX_FEATURES = 100000"
   ]
  },
  {
   "cell_type": "code",
   "execution_count": 73,
   "metadata": {},
   "outputs": [
    {
     "output_type": "execute_result",
     "data": {
      "text/plain": [
       "<80000x81230 sparse matrix of type '<class 'numpy.float64'>'\n",
       "\twith 3061233 stored elements in Compressed Sparse Row format>"
      ]
     },
     "metadata": {},
     "execution_count": 73
    }
   ],
   "source": [
    "tfidf_text_vectorizer = TfidfVectorizer(max_df=MAX_DF, \n",
    "                                        min_df=MIN_COUNT, \n",
    "                                        ngram_range=NGRAMS, \n",
    "                                        max_features=MAX_FEATURES,\n",
    "                                        stop_words = stopwords.words(\"english\"))\n",
    "df_cleaned_train_text_sparse = tfidf_text_vectorizer.fit_transform(df_cleaned_train_text)\n",
    "df_cleaned_train_text_sparse"
   ]
  },
  {
   "cell_type": "code",
   "execution_count": 74,
   "metadata": {},
   "outputs": [],
   "source": [
    "tfidf_partnumber_vectorizer = TfidfVectorizer(analyzer='char')\n",
    "df_train_partnumber_sparse = tfidf_partnumber_vectorizer.fit_transform(df_train_partnumber)"
   ]
  },
  {
   "cell_type": "code",
   "execution_count": 75,
   "metadata": {},
   "outputs": [
    {
     "output_type": "execute_result",
     "data": {
      "text/plain": [
       "<80000x65 sparse matrix of type '<class 'numpy.float64'>'\n",
       "\twith 624674 stored elements in Compressed Sparse Row format>"
      ]
     },
     "metadata": {},
     "execution_count": 75
    }
   ],
   "source": [
    "df_train_partnumber_sparse"
   ]
  },
  {
   "cell_type": "code",
   "execution_count": 76,
   "metadata": {},
   "outputs": [],
   "source": [
    "enc = OneHotEncoder(categories=(list_businesses, list_hs_codes, list_strengthes))"
   ]
  },
  {
   "cell_type": "code",
   "execution_count": 77,
   "metadata": {},
   "outputs": [
    {
     "output_type": "execute_result",
     "data": {
      "text/plain": [
       "<80000x1365 sparse matrix of type '<class 'numpy.float64'>'\n",
       "\twith 240000 stored elements in Compressed Sparse Row format>"
      ]
     },
     "metadata": {},
     "execution_count": 77
    }
   ],
   "source": [
    "df_train_features_sparse = enc.fit_transform(df_train_features)\n",
    "df_train_features_sparse"
   ]
  },
  {
   "cell_type": "code",
   "execution_count": 78,
   "metadata": {},
   "outputs": [
    {
     "output_type": "execute_result",
     "data": {
      "text/plain": [
       "True"
      ]
     },
     "metadata": {},
     "execution_count": 78
    }
   ],
   "source": [
    "df_total = hstack([df_cleaned_train_text_sparse, df_train_partnumber_sparse, df_train_features_sparse])\n",
    "df_total.shape[1] == len(tfidf_text_vectorizer.vocabulary_) + \\\n",
    "                    len(tfidf_partnumber_vectorizer.vocabulary_) + \\\n",
    "                    len(list_businesses) + len(list_hs_codes) + len(list_strengthes)"
   ]
  },
  {
   "cell_type": "code",
   "execution_count": 79,
   "metadata": {},
   "outputs": [],
   "source": [
    "X_train, X_holdout, y_train, y_holdout = train_test_split(df_total, y, \n",
    "                                                          test_size=0.3, \n",
    "                                                          random_state=SEED)"
   ]
  },
  {
   "cell_type": "code",
   "execution_count": 80,
   "metadata": {},
   "outputs": [
    {
     "output_type": "stream",
     "name": "stdout",
     "text": [
      "F1 score (train) 0.797\nF1 score (holdout) 0.709\n"
     ]
    }
   ],
   "source": [
    "clf = LogisticRegression(random_state=SEED).fit(X_train, y_train)\n",
    "print('F1 score (train) %.3f' % accuracy_score(y_train, clf.predict(X_train)))\n",
    "print('F1 score (holdout) %.3f' % accuracy_score(y_holdout, clf.predict(X_holdout)))"
   ]
  },
  {
   "cell_type": "code",
   "execution_count": 81,
   "metadata": {},
   "outputs": [
    {
     "output_type": "stream",
     "name": "stdout",
     "text": [
      "F1 score (train) 0.894\nF1 score (holdout) 0.716\n"
     ]
    }
   ],
   "source": [
    "clf2 = RidgeClassifier(random_state=SEED).fit(X_train, y_train)\n",
    "print('F1 score (train) %.3f' % f1_score(y_train, clf2.predict(X_train)))\n",
    "print('F1 score (holdout) %.3f' % f1_score(y_holdout, clf2.predict(X_holdout)))"
   ]
  },
  {
   "cell_type": "code",
   "execution_count": 82,
   "metadata": {},
   "outputs": [
    {
     "output_type": "stream",
     "name": "stdout",
     "text": [
      "F1 score (train) 0.739\nF1 score (holdout) 0.677\n"
     ]
    }
   ],
   "source": [
    "clf3 = MultinomialNB().fit(X_train, y_train)\n",
    "print('F1 score (train) %.3f' % f1_score(y_train, clf3.predict(X_train)))\n",
    "print('F1 score (holdout) %.3f' % f1_score(y_holdout, clf3.predict(X_holdout)))"
   ]
  },
  {
   "cell_type": "code",
   "execution_count": 83,
   "metadata": {},
   "outputs": [
    {
     "output_type": "stream",
     "name": "stdout",
     "text": [
      "F1 score (train) 0.925\nF1 score (holdout) 0.710\n"
     ]
    }
   ],
   "source": [
    "clf4 = svm.LinearSVC(random_state=SEED).fit(X_train, y_train)\n",
    "print('F1 score (train) %.3f' % f1_score(y_train, clf4.predict(X_train)))\n",
    "print('F1 score (holdout) %.3f' % f1_score(y_holdout, clf4.predict(X_holdout)))"
   ]
  },
  {
   "cell_type": "code",
   "execution_count": 84,
   "metadata": {},
   "outputs": [],
   "source": [
    "test_passed_text, test_passed_partnumber, test_passed_features, y_passed_test = prepare_data('test_passed_review.csv', \n",
    "                                                                                            'passed', threshold=20000)\n",
    "test_failed_text, test_failed_partnumber, test_failed_features, y_failed_test = prepare_data('test_failed_review.csv', \n",
    "                                                                                                'failed', threshold=20000)"
   ]
  },
  {
   "cell_type": "code",
   "execution_count": 85,
   "metadata": {},
   "outputs": [],
   "source": [
    "df_test_text = pd.concat([test_passed_text, test_failed_text], ignore_index=True)\n",
    "df_test_partnumber = pd.concat([test_passed_partnumber, test_failed_partnumber], ignore_index=True)\n",
    "df_test_features = pd.concat([test_passed_features, test_failed_features], ignore_index=True)\n",
    "y_test = pd.concat([y_passed_test, y_failed_test], ignore_index=True)"
   ]
  },
  {
   "cell_type": "code",
   "execution_count": 86,
   "metadata": {},
   "outputs": [],
   "source": [
    "def test_the_model(df_text, df_partnumber, df_features, encoders):\n",
    "    \n",
    "    df_cleaned_text = clean_data(df_text)\n",
    "    df_text_sparse = encoders[0].transform(df_cleaned_text)\n",
    "    df_partnumber_sparse = encoders[1].transform(df_partnumber)\n",
    "    df_features_sparse = encoders[2].transform(df_features)\n",
    "    df_out = hstack([df_text_sparse, df_partnumber_sparse, df_features_sparse])\n",
    "\n",
    "    return df_out"
   ]
  },
  {
   "cell_type": "code",
   "execution_count": 87,
   "metadata": {},
   "outputs": [],
   "source": [
    "X_test = test_the_model(df_test_text, \n",
    "                        df_test_partnumber, \n",
    "                        df_test_features, \n",
    "                        encoders = [tfidf_text_vectorizer, tfidf_partnumber_vectorizer, enc])"
   ]
  },
  {
   "cell_type": "code",
   "execution_count": 88,
   "metadata": {},
   "outputs": [
    {
     "output_type": "stream",
     "name": "stdout",
     "text": [
      "Logistic regression F1 score (test) 0.687\n",
      "Ridge Clasifier F1 score (test) 0.677\n",
      "Naive Bayes F1 score (test) 0.673\n",
      "Linear SVM F1 score (test) 0.669\n"
     ]
    }
   ],
   "source": [
    "print('Logistic regression F1 score (test) %.3f' % f1_score(y_test, clf.predict(X_test)))\n",
    "print('Ridge Clasifier F1 score (test) %.3f' % f1_score(y_test, clf2.predict(X_test)))\n",
    "print('Naive Bayes F1 score (test) %.3f' % f1_score(y_test, clf3.predict(X_test)))\n",
    "print('Linear SVM F1 score (test) %.3f' % f1_score(y_test, clf4.predict(X_test)))"
   ]
  },
  {
   "cell_type": "code",
   "execution_count": 89,
   "metadata": {},
   "outputs": [],
   "source": [
    "preds = pd.DataFrame(clf.predict_proba(X_test), columns = ['Prob_of_0', 'Prob_of_1'])"
   ]
  },
  {
   "cell_type": "code",
   "execution_count": 90,
   "metadata": {},
   "outputs": [],
   "source": [
    "preds['AT'] = df_test_text\n",
    "preds[['Business', 'HS_code', 'Strength']] = df_test_features\n",
    "preds['True'] = y_test"
   ]
  },
  {
   "cell_type": "code",
   "execution_count": 91,
   "metadata": {},
   "outputs": [
    {
     "output_type": "display_data",
     "data": {
      "text/plain": "<Figure size 1152x432 with 2 Axes>",
      "image/svg+xml": "<?xml version=\"1.0\" encoding=\"utf-8\" standalone=\"no\"?>\r\n<!DOCTYPE svg PUBLIC \"-//W3C//DTD SVG 1.1//EN\"\r\n  \"http://www.w3.org/Graphics/SVG/1.1/DTD/svg11.dtd\">\r\n<!-- Created with matplotlib (https://matplotlib.org/) -->\r\n<svg height=\"371.194375pt\" version=\"1.1\" viewBox=\"0 0 953.328125 371.194375\" width=\"953.328125pt\" xmlns=\"http://www.w3.org/2000/svg\" xmlns:xlink=\"http://www.w3.org/1999/xlink\">\r\n <metadata>\r\n  <rdf:RDF xmlns:cc=\"http://creativecommons.org/ns#\" xmlns:dc=\"http://purl.org/dc/elements/1.1/\" xmlns:rdf=\"http://www.w3.org/1999/02/22-rdf-syntax-ns#\">\r\n   <cc:Work>\r\n    <dc:type rdf:resource=\"http://purl.org/dc/dcmitype/StillImage\"/>\r\n    <dc:date>2021-03-15T21:06:08.426349</dc:date>\r\n    <dc:format>image/svg+xml</dc:format>\r\n    <dc:creator>\r\n     <cc:Agent>\r\n      <dc:title>Matplotlib v3.3.4, https://matplotlib.org/</dc:title>\r\n     </cc:Agent>\r\n    </dc:creator>\r\n   </cc:Work>\r\n  </rdf:RDF>\r\n </metadata>\r\n <defs>\r\n  <style type=\"text/css\">*{stroke-linecap:butt;stroke-linejoin:round;}</style>\r\n </defs>\r\n <g id=\"figure_1\">\r\n  <g id=\"patch_1\">\r\n   <path d=\"M 0 371.194375 \r\nL 953.328125 371.194375 \r\nL 953.328125 0 \r\nL 0 0 \r\nz\r\n\" style=\"fill:none;\"/>\r\n  </g>\r\n  <g id=\"axes_1\">\r\n   <g id=\"patch_2\">\r\n    <path d=\"M 53.328125 333.36 \r\nL 459.146307 333.36 \r\nL 459.146307 7.2 \r\nL 53.328125 7.2 \r\nz\r\n\" style=\"fill:#ffffff;\"/>\r\n   </g>\r\n   <g id=\"patch_3\">\r\n    <path clip-path=\"url(#pa009497835)\" d=\"M 71.774406 333.36 \r\nL 79.623887 333.36 \r\nL 79.623887 306.201218 \r\nL 71.774406 306.201218 \r\nz\r\n\" style=\"fill:#008000;fill-opacity:0.75;stroke:#000000;stroke-linejoin:miter;stroke-width:0.784948;\"/>\r\n   </g>\r\n   <g id=\"patch_4\">\r\n    <path clip-path=\"url(#pa009497835)\" d=\"M 79.623887 333.36 \r\nL 87.473369 333.36 \r\nL 87.473369 245.821425 \r\nL 79.623887 245.821425 \r\nz\r\n\" style=\"fill:#008000;fill-opacity:0.75;stroke:#000000;stroke-linejoin:miter;stroke-width:0.784948;\"/>\r\n   </g>\r\n   <g id=\"patch_5\">\r\n    <path clip-path=\"url(#pa009497835)\" d=\"M 87.473369 333.36 \r\nL 95.32285 333.36 \r\nL 95.32285 218.420154 \r\nL 87.473369 218.420154 \r\nz\r\n\" style=\"fill:#008000;fill-opacity:0.75;stroke:#000000;stroke-linejoin:miter;stroke-width:0.784948;\"/>\r\n   </g>\r\n   <g id=\"patch_6\">\r\n    <path clip-path=\"url(#pa009497835)\" d=\"M 95.32285 333.36 \r\nL 103.172331 333.36 \r\nL 103.172331 173.317176 \r\nL 95.32285 173.317176 \r\nz\r\n\" style=\"fill:#008000;fill-opacity:0.75;stroke:#000000;stroke-linejoin:miter;stroke-width:0.784948;\"/>\r\n   </g>\r\n   <g id=\"patch_7\">\r\n    <path clip-path=\"url(#pa009497835)\" d=\"M 103.172331 333.36 \r\nL 111.021812 333.36 \r\nL 111.021812 161.435209 \r\nL 103.172331 161.435209 \r\nz\r\n\" style=\"fill:#008000;fill-opacity:0.75;stroke:#000000;stroke-linejoin:miter;stroke-width:0.784948;\"/>\r\n   </g>\r\n   <g id=\"patch_8\">\r\n    <path clip-path=\"url(#pa009497835)\" d=\"M 111.021812 333.36 \r\nL 118.871294 333.36 \r\nL 118.871294 142.036079 \r\nL 111.021812 142.036079 \r\nz\r\n\" style=\"fill:#008000;fill-opacity:0.75;stroke:#000000;stroke-linejoin:miter;stroke-width:0.784948;\"/>\r\n   </g>\r\n   <g id=\"patch_9\">\r\n    <path clip-path=\"url(#pa009497835)\" d=\"M 118.871294 333.36 \r\nL 126.720775 333.36 \r\nL 126.720775 130.63909 \r\nL 118.871294 130.63909 \r\nz\r\n\" style=\"fill:#008000;fill-opacity:0.75;stroke:#000000;stroke-linejoin:miter;stroke-width:0.784948;\"/>\r\n   </g>\r\n   <g id=\"patch_10\">\r\n    <path clip-path=\"url(#pa009497835)\" d=\"M 126.720775 333.36 \r\nL 134.570256 333.36 \r\nL 134.570256 106.147688 \r\nL 126.720775 106.147688 \r\nz\r\n\" style=\"fill:#008000;fill-opacity:0.75;stroke:#000000;stroke-linejoin:miter;stroke-width:0.784948;\"/>\r\n   </g>\r\n   <g id=\"patch_11\">\r\n    <path clip-path=\"url(#pa009497835)\" d=\"M 134.570256 333.36 \r\nL 142.419737 333.36 \r\nL 142.419737 106.875156 \r\nL 134.570256 106.875156 \r\nz\r\n\" style=\"fill:#008000;fill-opacity:0.75;stroke:#000000;stroke-linejoin:miter;stroke-width:0.784948;\"/>\r\n   </g>\r\n   <g id=\"patch_12\">\r\n    <path clip-path=\"url(#pa009497835)\" d=\"M 142.419737 333.36 \r\nL 150.269219 333.36 \r\nL 150.269219 63.712091 \r\nL 142.419737 63.712091 \r\nz\r\n\" style=\"fill:#008000;fill-opacity:0.75;stroke:#000000;stroke-linejoin:miter;stroke-width:0.784948;\"/>\r\n   </g>\r\n   <g id=\"patch_13\">\r\n    <path clip-path=\"url(#pa009497835)\" d=\"M 150.269219 333.36 \r\nL 158.1187 333.36 \r\nL 158.1187 80.68633 \r\nL 150.269219 80.68633 \r\nz\r\n\" style=\"fill:#008000;fill-opacity:0.75;stroke:#000000;stroke-linejoin:miter;stroke-width:0.784948;\"/>\r\n   </g>\r\n   <g id=\"patch_14\">\r\n    <path clip-path=\"url(#pa009497835)\" d=\"M 158.1187 333.36 \r\nL 165.968181 333.36 \r\nL 165.968181 62.014667 \r\nL 158.1187 62.014667 \r\nz\r\n\" style=\"fill:#008000;fill-opacity:0.75;stroke:#000000;stroke-linejoin:miter;stroke-width:0.784948;\"/>\r\n   </g>\r\n   <g id=\"patch_15\">\r\n    <path clip-path=\"url(#pa009497835)\" d=\"M 165.968181 333.36 \r\nL 173.817663 333.36 \r\nL 173.817663 60.802221 \r\nL 165.968181 60.802221 \r\nz\r\n\" style=\"fill:#008000;fill-opacity:0.75;stroke:#000000;stroke-linejoin:miter;stroke-width:0.784948;\"/>\r\n   </g>\r\n   <g id=\"patch_16\">\r\n    <path clip-path=\"url(#pa009497835)\" d=\"M 173.817663 333.36 \r\nL 181.667144 333.36 \r\nL 181.667144 44.312961 \r\nL 173.817663 44.312961 \r\nz\r\n\" style=\"fill:#008000;fill-opacity:0.75;stroke:#000000;stroke-linejoin:miter;stroke-width:0.784948;\"/>\r\n   </g>\r\n   <g id=\"patch_17\">\r\n    <path clip-path=\"url(#pa009497835)\" d=\"M 181.667144 333.36 \r\nL 189.516625 333.36 \r\nL 189.516625 30.248592 \r\nL 181.667144 30.248592 \r\nz\r\n\" style=\"fill:#008000;fill-opacity:0.75;stroke:#000000;stroke-linejoin:miter;stroke-width:0.784948;\"/>\r\n   </g>\r\n   <g id=\"patch_18\">\r\n    <path clip-path=\"url(#pa009497835)\" d=\"M 189.516625 333.36 \r\nL 197.366106 333.36 \r\nL 197.366106 30.73357 \r\nL 189.516625 30.73357 \r\nz\r\n\" style=\"fill:#008000;fill-opacity:0.75;stroke:#000000;stroke-linejoin:miter;stroke-width:0.784948;\"/>\r\n   </g>\r\n   <g id=\"patch_19\">\r\n    <path clip-path=\"url(#pa009497835)\" d=\"M 197.366106 333.36 \r\nL 205.215588 333.36 \r\nL 205.215588 47.707809 \r\nL 197.366106 47.707809 \r\nz\r\n\" style=\"fill:#008000;fill-opacity:0.75;stroke:#000000;stroke-linejoin:miter;stroke-width:0.784948;\"/>\r\n   </g>\r\n   <g id=\"patch_20\">\r\n    <path clip-path=\"url(#pa009497835)\" d=\"M 205.215588 333.36 \r\nL 213.065069 333.36 \r\nL 213.065069 40.433135 \r\nL 205.215588 40.433135 \r\nz\r\n\" style=\"fill:#008000;fill-opacity:0.75;stroke:#000000;stroke-linejoin:miter;stroke-width:0.784948;\"/>\r\n   </g>\r\n   <g id=\"patch_21\">\r\n    <path clip-path=\"url(#pa009497835)\" d=\"M 213.065069 333.36 \r\nL 220.91455 333.36 \r\nL 220.91455 22.731429 \r\nL 213.065069 22.731429 \r\nz\r\n\" style=\"fill:#008000;fill-opacity:0.75;stroke:#000000;stroke-linejoin:miter;stroke-width:0.784948;\"/>\r\n   </g>\r\n   <g id=\"patch_22\">\r\n    <path clip-path=\"url(#pa009497835)\" d=\"M 220.91455 333.36 \r\nL 228.764031 333.36 \r\nL 228.764031 46.010385 \r\nL 220.91455 46.010385 \r\nz\r\n\" style=\"fill:#008000;fill-opacity:0.75;stroke:#000000;stroke-linejoin:miter;stroke-width:0.784948;\"/>\r\n   </g>\r\n   <g id=\"patch_23\">\r\n    <path clip-path=\"url(#pa009497835)\" d=\"M 228.764031 333.36 \r\nL 236.613513 333.36 \r\nL 236.613513 46.010385 \r\nL 228.764031 46.010385 \r\nz\r\n\" style=\"fill:#008000;fill-opacity:0.75;stroke:#000000;stroke-linejoin:miter;stroke-width:0.784948;\"/>\r\n   </g>\r\n   <g id=\"patch_24\">\r\n    <path clip-path=\"url(#pa009497835)\" d=\"M 236.613513 333.36 \r\nL 244.462994 333.36 \r\nL 244.462994 42.615537 \r\nL 236.613513 42.615537 \r\nz\r\n\" style=\"fill:#008000;fill-opacity:0.75;stroke:#000000;stroke-linejoin:miter;stroke-width:0.784948;\"/>\r\n   </g>\r\n   <g id=\"patch_25\">\r\n    <path clip-path=\"url(#pa009497835)\" d=\"M 244.462994 333.36 \r\nL 252.312475 333.36 \r\nL 252.312475 62.499645 \r\nL 244.462994 62.499645 \r\nz\r\n\" style=\"fill:#008000;fill-opacity:0.75;stroke:#000000;stroke-linejoin:miter;stroke-width:0.784948;\"/>\r\n   </g>\r\n   <g id=\"patch_26\">\r\n    <path clip-path=\"url(#pa009497835)\" d=\"M 252.312475 333.36 \r\nL 260.161957 333.36 \r\nL 260.161957 53.042569 \r\nL 252.312475 53.042569 \r\nz\r\n\" style=\"fill:#008000;fill-opacity:0.75;stroke:#000000;stroke-linejoin:miter;stroke-width:0.784948;\"/>\r\n   </g>\r\n   <g id=\"patch_27\">\r\n    <path clip-path=\"url(#pa009497835)\" d=\"M 260.161957 333.36 \r\nL 268.011438 333.36 \r\nL 268.011438 72.4417 \r\nL 260.161957 72.4417 \r\nz\r\n\" style=\"fill:#008000;fill-opacity:0.75;stroke:#000000;stroke-linejoin:miter;stroke-width:0.784948;\"/>\r\n   </g>\r\n   <g id=\"patch_28\">\r\n    <path clip-path=\"url(#pa009497835)\" d=\"M 268.011438 333.36 \r\nL 275.860919 333.36 \r\nL 275.860919 64.682048 \r\nL 268.011438 64.682048 \r\nz\r\n\" style=\"fill:#008000;fill-opacity:0.75;stroke:#000000;stroke-linejoin:miter;stroke-width:0.784948;\"/>\r\n   </g>\r\n   <g id=\"patch_29\">\r\n    <path clip-path=\"url(#pa009497835)\" d=\"M 275.860919 333.36 \r\nL 283.7104 333.36 \r\nL 283.7104 64.924537 \r\nL 275.860919 64.924537 \r\nz\r\n\" style=\"fill:#008000;fill-opacity:0.75;stroke:#000000;stroke-linejoin:miter;stroke-width:0.784948;\"/>\r\n   </g>\r\n   <g id=\"patch_30\">\r\n    <path clip-path=\"url(#pa009497835)\" d=\"M 283.7104 333.36 \r\nL 291.559882 333.36 \r\nL 291.559882 62.499645 \r\nL 283.7104 62.499645 \r\nz\r\n\" style=\"fill:#008000;fill-opacity:0.75;stroke:#000000;stroke-linejoin:miter;stroke-width:0.784948;\"/>\r\n   </g>\r\n   <g id=\"patch_31\">\r\n    <path clip-path=\"url(#pa009497835)\" d=\"M 291.559882 333.36 \r\nL 299.409363 333.36 \r\nL 299.409363 79.716373 \r\nL 291.559882 79.716373 \r\nz\r\n\" style=\"fill:#008000;fill-opacity:0.75;stroke:#000000;stroke-linejoin:miter;stroke-width:0.784948;\"/>\r\n   </g>\r\n   <g id=\"patch_32\">\r\n    <path clip-path=\"url(#pa009497835)\" d=\"M 299.409363 333.36 \r\nL 307.258844 333.36 \r\nL 307.258844 89.900917 \r\nL 299.409363 89.900917 \r\nz\r\n\" style=\"fill:#008000;fill-opacity:0.75;stroke:#000000;stroke-linejoin:miter;stroke-width:0.784948;\"/>\r\n   </g>\r\n   <g id=\"patch_33\">\r\n    <path clip-path=\"url(#pa009497835)\" d=\"M 307.258844 333.36 \r\nL 315.108325 333.36 \r\nL 315.108325 107.602623 \r\nL 307.258844 107.602623 \r\nz\r\n\" style=\"fill:#008000;fill-opacity:0.75;stroke:#000000;stroke-linejoin:miter;stroke-width:0.784948;\"/>\r\n   </g>\r\n   <g id=\"patch_34\">\r\n    <path clip-path=\"url(#pa009497835)\" d=\"M 315.108325 333.36 \r\nL 322.957807 333.36 \r\nL 322.957807 105.177732 \r\nL 315.108325 105.177732 \r\nz\r\n\" style=\"fill:#008000;fill-opacity:0.75;stroke:#000000;stroke-linejoin:miter;stroke-width:0.784948;\"/>\r\n   </g>\r\n   <g id=\"patch_35\">\r\n    <path clip-path=\"url(#pa009497835)\" d=\"M 322.957807 333.36 \r\nL 330.807288 333.36 \r\nL 330.807288 126.274286 \r\nL 322.957807 126.274286 \r\nz\r\n\" style=\"fill:#008000;fill-opacity:0.75;stroke:#000000;stroke-linejoin:miter;stroke-width:0.784948;\"/>\r\n   </g>\r\n   <g id=\"patch_36\">\r\n    <path clip-path=\"url(#pa009497835)\" d=\"M 330.807288 333.36 \r\nL 338.656769 333.36 \r\nL 338.656769 123.121927 \r\nL 330.807288 123.121927 \r\nz\r\n\" style=\"fill:#008000;fill-opacity:0.75;stroke:#000000;stroke-linejoin:miter;stroke-width:0.784948;\"/>\r\n   </g>\r\n   <g id=\"patch_37\">\r\n    <path clip-path=\"url(#pa009497835)\" d=\"M 338.656769 333.36 \r\nL 346.506251 333.36 \r\nL 346.506251 128.214199 \r\nL 338.656769 128.214199 \r\nz\r\n\" style=\"fill:#008000;fill-opacity:0.75;stroke:#000000;stroke-linejoin:miter;stroke-width:0.784948;\"/>\r\n   </g>\r\n   <g id=\"patch_38\">\r\n    <path clip-path=\"url(#pa009497835)\" d=\"M 346.506251 333.36 \r\nL 354.355732 333.36 \r\nL 354.355732 142.036079 \r\nL 346.506251 142.036079 \r\nz\r\n\" style=\"fill:#008000;fill-opacity:0.75;stroke:#000000;stroke-linejoin:miter;stroke-width:0.784948;\"/>\r\n   </g>\r\n   <g id=\"patch_39\">\r\n    <path clip-path=\"url(#pa009497835)\" d=\"M 354.355732 333.36 \r\nL 362.205213 333.36 \r\nL 362.205213 164.587568 \r\nL 354.355732 164.587568 \r\nz\r\n\" style=\"fill:#008000;fill-opacity:0.75;stroke:#000000;stroke-linejoin:miter;stroke-width:0.784948;\"/>\r\n   </g>\r\n   <g id=\"patch_40\">\r\n    <path clip-path=\"url(#pa009497835)\" d=\"M 362.205213 333.36 \r\nL 370.054694 333.36 \r\nL 370.054694 162.647655 \r\nL 362.205213 162.647655 \r\nz\r\n\" style=\"fill:#008000;fill-opacity:0.75;stroke:#000000;stroke-linejoin:miter;stroke-width:0.784948;\"/>\r\n   </g>\r\n   <g id=\"patch_41\">\r\n    <path clip-path=\"url(#pa009497835)\" d=\"M 370.054694 333.36 \r\nL 377.904176 333.36 \r\nL 377.904176 187.139057 \r\nL 370.054694 187.139057 \r\nz\r\n\" style=\"fill:#008000;fill-opacity:0.75;stroke:#000000;stroke-linejoin:miter;stroke-width:0.784948;\"/>\r\n   </g>\r\n   <g id=\"patch_42\">\r\n    <path clip-path=\"url(#pa009497835)\" d=\"M 377.904176 333.36 \r\nL 385.753657 333.36 \r\nL 385.753657 191.74635 \r\nL 377.904176 191.74635 \r\nz\r\n\" style=\"fill:#008000;fill-opacity:0.75;stroke:#000000;stroke-linejoin:miter;stroke-width:0.784948;\"/>\r\n   </g>\r\n   <g id=\"patch_43\">\r\n    <path clip-path=\"url(#pa009497835)\" d=\"M 385.753657 333.36 \r\nL 393.603138 333.36 \r\nL 393.603138 203.870806 \r\nL 385.753657 203.870806 \r\nz\r\n\" style=\"fill:#008000;fill-opacity:0.75;stroke:#000000;stroke-linejoin:miter;stroke-width:0.784948;\"/>\r\n   </g>\r\n   <g id=\"patch_44\">\r\n    <path clip-path=\"url(#pa009497835)\" d=\"M 393.603138 333.36 \r\nL 401.452619 333.36 \r\nL 401.452619 221.815002 \r\nL 393.603138 221.815002 \r\nz\r\n\" style=\"fill:#008000;fill-opacity:0.75;stroke:#000000;stroke-linejoin:miter;stroke-width:0.784948;\"/>\r\n   </g>\r\n   <g id=\"patch_45\">\r\n    <path clip-path=\"url(#pa009497835)\" d=\"M 401.452619 333.36 \r\nL 409.302101 333.36 \r\nL 409.302101 247.518849 \r\nL 401.452619 247.518849 \r\nz\r\n\" style=\"fill:#008000;fill-opacity:0.75;stroke:#000000;stroke-linejoin:miter;stroke-width:0.784948;\"/>\r\n   </g>\r\n   <g id=\"patch_46\">\r\n    <path clip-path=\"url(#pa009497835)\" d=\"M 409.302101 333.36 \r\nL 417.151582 333.36 \r\nL 417.151582 250.428719 \r\nL 409.302101 250.428719 \r\nz\r\n\" style=\"fill:#008000;fill-opacity:0.75;stroke:#000000;stroke-linejoin:miter;stroke-width:0.784948;\"/>\r\n   </g>\r\n   <g id=\"patch_47\">\r\n    <path clip-path=\"url(#pa009497835)\" d=\"M 417.151582 333.36 \r\nL 425.001063 333.36 \r\nL 425.001063 285.589642 \r\nL 417.151582 285.589642 \r\nz\r\n\" style=\"fill:#008000;fill-opacity:0.75;stroke:#000000;stroke-linejoin:miter;stroke-width:0.784948;\"/>\r\n   </g>\r\n   <g id=\"patch_48\">\r\n    <path clip-path=\"url(#pa009497835)\" d=\"M 425.001063 333.36 \r\nL 432.850545 333.36 \r\nL 432.850545 305.958729 \r\nL 425.001063 305.958729 \r\nz\r\n\" style=\"fill:#008000;fill-opacity:0.75;stroke:#000000;stroke-linejoin:miter;stroke-width:0.784948;\"/>\r\n   </g>\r\n   <g id=\"patch_49\">\r\n    <path clip-path=\"url(#pa009497835)\" d=\"M 432.850545 333.36 \r\nL 440.700026 333.36 \r\nL 440.700026 323.417946 \r\nL 432.850545 323.417946 \r\nz\r\n\" style=\"fill:#008000;fill-opacity:0.75;stroke:#000000;stroke-linejoin:miter;stroke-width:0.784948;\"/>\r\n   </g>\r\n   <g id=\"matplotlib.axis_1\">\r\n    <g id=\"xtick_1\">\r\n     <g id=\"line2d_1\">\r\n      <defs>\r\n       <path d=\"M 0 0 \r\nL 0 3.5 \r\n\" id=\"m51a84d5617\" style=\"stroke:#000000;stroke-width:0.8;\"/>\r\n      </defs>\r\n      <g>\r\n       <use style=\"stroke:#000000;stroke-width:0.8;\" x=\"69.557572\" xlink:href=\"#m51a84d5617\" y=\"333.36\"/>\r\n      </g>\r\n     </g>\r\n     <g id=\"text_1\">\r\n      <!-- 0.0 -->\r\n      <g transform=\"translate(61.60601 347.958438)scale(0.1 -0.1)\">\r\n       <defs>\r\n        <path d=\"M 31.78125 66.40625 \r\nQ 24.171875 66.40625 20.328125 58.90625 \r\nQ 16.5 51.421875 16.5 36.375 \r\nQ 16.5 21.390625 20.328125 13.890625 \r\nQ 24.171875 6.390625 31.78125 6.390625 \r\nQ 39.453125 6.390625 43.28125 13.890625 \r\nQ 47.125 21.390625 47.125 36.375 \r\nQ 47.125 51.421875 43.28125 58.90625 \r\nQ 39.453125 66.40625 31.78125 66.40625 \r\nz\r\nM 31.78125 74.21875 \r\nQ 44.046875 74.21875 50.515625 64.515625 \r\nQ 56.984375 54.828125 56.984375 36.375 \r\nQ 56.984375 17.96875 50.515625 8.265625 \r\nQ 44.046875 -1.421875 31.78125 -1.421875 \r\nQ 19.53125 -1.421875 13.0625 8.265625 \r\nQ 6.59375 17.96875 6.59375 36.375 \r\nQ 6.59375 54.828125 13.0625 64.515625 \r\nQ 19.53125 74.21875 31.78125 74.21875 \r\nz\r\n\" id=\"DejaVuSans-48\"/>\r\n        <path d=\"M 10.6875 12.40625 \r\nL 21 12.40625 \r\nL 21 0 \r\nL 10.6875 0 \r\nz\r\n\" id=\"DejaVuSans-46\"/>\r\n       </defs>\r\n       <use xlink:href=\"#DejaVuSans-48\"/>\r\n       <use x=\"63.623047\" xlink:href=\"#DejaVuSans-46\"/>\r\n       <use x=\"95.410156\" xlink:href=\"#DejaVuSans-48\"/>\r\n      </g>\r\n     </g>\r\n    </g>\r\n    <g id=\"xtick_2\">\r\n     <g id=\"line2d_2\">\r\n      <g>\r\n       <use style=\"stroke:#000000;stroke-width:0.8;\" x=\"144.307257\" xlink:href=\"#m51a84d5617\" y=\"333.36\"/>\r\n      </g>\r\n     </g>\r\n     <g id=\"text_2\">\r\n      <!-- 0.2 -->\r\n      <g transform=\"translate(136.355695 347.958438)scale(0.1 -0.1)\">\r\n       <defs>\r\n        <path d=\"M 19.1875 8.296875 \r\nL 53.609375 8.296875 \r\nL 53.609375 0 \r\nL 7.328125 0 \r\nL 7.328125 8.296875 \r\nQ 12.9375 14.109375 22.625 23.890625 \r\nQ 32.328125 33.6875 34.8125 36.53125 \r\nQ 39.546875 41.84375 41.421875 45.53125 \r\nQ 43.3125 49.21875 43.3125 52.78125 \r\nQ 43.3125 58.59375 39.234375 62.25 \r\nQ 35.15625 65.921875 28.609375 65.921875 \r\nQ 23.96875 65.921875 18.8125 64.3125 \r\nQ 13.671875 62.703125 7.8125 59.421875 \r\nL 7.8125 69.390625 \r\nQ 13.765625 71.78125 18.9375 73 \r\nQ 24.125 74.21875 28.421875 74.21875 \r\nQ 39.75 74.21875 46.484375 68.546875 \r\nQ 53.21875 62.890625 53.21875 53.421875 \r\nQ 53.21875 48.921875 51.53125 44.890625 \r\nQ 49.859375 40.875 45.40625 35.40625 \r\nQ 44.1875 33.984375 37.640625 27.21875 \r\nQ 31.109375 20.453125 19.1875 8.296875 \r\nz\r\n\" id=\"DejaVuSans-50\"/>\r\n       </defs>\r\n       <use xlink:href=\"#DejaVuSans-48\"/>\r\n       <use x=\"63.623047\" xlink:href=\"#DejaVuSans-46\"/>\r\n       <use x=\"95.410156\" xlink:href=\"#DejaVuSans-50\"/>\r\n      </g>\r\n     </g>\r\n    </g>\r\n    <g id=\"xtick_3\">\r\n     <g id=\"line2d_3\">\r\n      <g>\r\n       <use style=\"stroke:#000000;stroke-width:0.8;\" x=\"219.056942\" xlink:href=\"#m51a84d5617\" y=\"333.36\"/>\r\n      </g>\r\n     </g>\r\n     <g id=\"text_3\">\r\n      <!-- 0.4 -->\r\n      <g transform=\"translate(211.105379 347.958438)scale(0.1 -0.1)\">\r\n       <defs>\r\n        <path d=\"M 37.796875 64.3125 \r\nL 12.890625 25.390625 \r\nL 37.796875 25.390625 \r\nz\r\nM 35.203125 72.90625 \r\nL 47.609375 72.90625 \r\nL 47.609375 25.390625 \r\nL 58.015625 25.390625 \r\nL 58.015625 17.1875 \r\nL 47.609375 17.1875 \r\nL 47.609375 0 \r\nL 37.796875 0 \r\nL 37.796875 17.1875 \r\nL 4.890625 17.1875 \r\nL 4.890625 26.703125 \r\nz\r\n\" id=\"DejaVuSans-52\"/>\r\n       </defs>\r\n       <use xlink:href=\"#DejaVuSans-48\"/>\r\n       <use x=\"63.623047\" xlink:href=\"#DejaVuSans-46\"/>\r\n       <use x=\"95.410156\" xlink:href=\"#DejaVuSans-52\"/>\r\n      </g>\r\n     </g>\r\n    </g>\r\n    <g id=\"xtick_4\">\r\n     <g id=\"line2d_4\">\r\n      <g>\r\n       <use style=\"stroke:#000000;stroke-width:0.8;\" x=\"293.806627\" xlink:href=\"#m51a84d5617\" y=\"333.36\"/>\r\n      </g>\r\n     </g>\r\n     <g id=\"text_4\">\r\n      <!-- 0.6 -->\r\n      <g transform=\"translate(285.855064 347.958438)scale(0.1 -0.1)\">\r\n       <defs>\r\n        <path d=\"M 33.015625 40.375 \r\nQ 26.375 40.375 22.484375 35.828125 \r\nQ 18.609375 31.296875 18.609375 23.390625 \r\nQ 18.609375 15.53125 22.484375 10.953125 \r\nQ 26.375 6.390625 33.015625 6.390625 \r\nQ 39.65625 6.390625 43.53125 10.953125 \r\nQ 47.40625 15.53125 47.40625 23.390625 \r\nQ 47.40625 31.296875 43.53125 35.828125 \r\nQ 39.65625 40.375 33.015625 40.375 \r\nz\r\nM 52.59375 71.296875 \r\nL 52.59375 62.3125 \r\nQ 48.875 64.0625 45.09375 64.984375 \r\nQ 41.3125 65.921875 37.59375 65.921875 \r\nQ 27.828125 65.921875 22.671875 59.328125 \r\nQ 17.53125 52.734375 16.796875 39.40625 \r\nQ 19.671875 43.65625 24.015625 45.921875 \r\nQ 28.375 48.1875 33.59375 48.1875 \r\nQ 44.578125 48.1875 50.953125 41.515625 \r\nQ 57.328125 34.859375 57.328125 23.390625 \r\nQ 57.328125 12.15625 50.6875 5.359375 \r\nQ 44.046875 -1.421875 33.015625 -1.421875 \r\nQ 20.359375 -1.421875 13.671875 8.265625 \r\nQ 6.984375 17.96875 6.984375 36.375 \r\nQ 6.984375 53.65625 15.1875 63.9375 \r\nQ 23.390625 74.21875 37.203125 74.21875 \r\nQ 40.921875 74.21875 44.703125 73.484375 \r\nQ 48.484375 72.75 52.59375 71.296875 \r\nz\r\n\" id=\"DejaVuSans-54\"/>\r\n       </defs>\r\n       <use xlink:href=\"#DejaVuSans-48\"/>\r\n       <use x=\"63.623047\" xlink:href=\"#DejaVuSans-46\"/>\r\n       <use x=\"95.410156\" xlink:href=\"#DejaVuSans-54\"/>\r\n      </g>\r\n     </g>\r\n    </g>\r\n    <g id=\"xtick_5\">\r\n     <g id=\"line2d_5\">\r\n      <g>\r\n       <use style=\"stroke:#000000;stroke-width:0.8;\" x=\"368.556312\" xlink:href=\"#m51a84d5617\" y=\"333.36\"/>\r\n      </g>\r\n     </g>\r\n     <g id=\"text_5\">\r\n      <!-- 0.8 -->\r\n      <g transform=\"translate(360.604749 347.958438)scale(0.1 -0.1)\">\r\n       <defs>\r\n        <path d=\"M 31.78125 34.625 \r\nQ 24.75 34.625 20.71875 30.859375 \r\nQ 16.703125 27.09375 16.703125 20.515625 \r\nQ 16.703125 13.921875 20.71875 10.15625 \r\nQ 24.75 6.390625 31.78125 6.390625 \r\nQ 38.8125 6.390625 42.859375 10.171875 \r\nQ 46.921875 13.96875 46.921875 20.515625 \r\nQ 46.921875 27.09375 42.890625 30.859375 \r\nQ 38.875 34.625 31.78125 34.625 \r\nz\r\nM 21.921875 38.8125 \r\nQ 15.578125 40.375 12.03125 44.71875 \r\nQ 8.5 49.078125 8.5 55.328125 \r\nQ 8.5 64.0625 14.71875 69.140625 \r\nQ 20.953125 74.21875 31.78125 74.21875 \r\nQ 42.671875 74.21875 48.875 69.140625 \r\nQ 55.078125 64.0625 55.078125 55.328125 \r\nQ 55.078125 49.078125 51.53125 44.71875 \r\nQ 48 40.375 41.703125 38.8125 \r\nQ 48.828125 37.15625 52.796875 32.3125 \r\nQ 56.78125 27.484375 56.78125 20.515625 \r\nQ 56.78125 9.90625 50.3125 4.234375 \r\nQ 43.84375 -1.421875 31.78125 -1.421875 \r\nQ 19.734375 -1.421875 13.25 4.234375 \r\nQ 6.78125 9.90625 6.78125 20.515625 \r\nQ 6.78125 27.484375 10.78125 32.3125 \r\nQ 14.796875 37.15625 21.921875 38.8125 \r\nz\r\nM 18.3125 54.390625 \r\nQ 18.3125 48.734375 21.84375 45.5625 \r\nQ 25.390625 42.390625 31.78125 42.390625 \r\nQ 38.140625 42.390625 41.71875 45.5625 \r\nQ 45.3125 48.734375 45.3125 54.390625 \r\nQ 45.3125 60.0625 41.71875 63.234375 \r\nQ 38.140625 66.40625 31.78125 66.40625 \r\nQ 25.390625 66.40625 21.84375 63.234375 \r\nQ 18.3125 60.0625 18.3125 54.390625 \r\nz\r\n\" id=\"DejaVuSans-56\"/>\r\n       </defs>\r\n       <use xlink:href=\"#DejaVuSans-48\"/>\r\n       <use x=\"63.623047\" xlink:href=\"#DejaVuSans-46\"/>\r\n       <use x=\"95.410156\" xlink:href=\"#DejaVuSans-56\"/>\r\n      </g>\r\n     </g>\r\n    </g>\r\n    <g id=\"xtick_6\">\r\n     <g id=\"line2d_6\">\r\n      <g>\r\n       <use style=\"stroke:#000000;stroke-width:0.8;\" x=\"443.305996\" xlink:href=\"#m51a84d5617\" y=\"333.36\"/>\r\n      </g>\r\n     </g>\r\n     <g id=\"text_6\">\r\n      <!-- 1.0 -->\r\n      <g transform=\"translate(435.354434 347.958438)scale(0.1 -0.1)\">\r\n       <defs>\r\n        <path d=\"M 12.40625 8.296875 \r\nL 28.515625 8.296875 \r\nL 28.515625 63.921875 \r\nL 10.984375 60.40625 \r\nL 10.984375 69.390625 \r\nL 28.421875 72.90625 \r\nL 38.28125 72.90625 \r\nL 38.28125 8.296875 \r\nL 54.390625 8.296875 \r\nL 54.390625 0 \r\nL 12.40625 0 \r\nz\r\n\" id=\"DejaVuSans-49\"/>\r\n       </defs>\r\n       <use xlink:href=\"#DejaVuSans-49\"/>\r\n       <use x=\"63.623047\" xlink:href=\"#DejaVuSans-46\"/>\r\n       <use x=\"95.410156\" xlink:href=\"#DejaVuSans-48\"/>\r\n      </g>\r\n     </g>\r\n    </g>\r\n    <g id=\"text_7\">\r\n     <!-- Prob_of_0 -->\r\n     <g transform=\"translate(232.132528 361.636562)scale(0.1 -0.1)\">\r\n      <defs>\r\n       <path d=\"M 19.671875 64.796875 \r\nL 19.671875 37.40625 \r\nL 32.078125 37.40625 \r\nQ 38.96875 37.40625 42.71875 40.96875 \r\nQ 46.484375 44.53125 46.484375 51.125 \r\nQ 46.484375 57.671875 42.71875 61.234375 \r\nQ 38.96875 64.796875 32.078125 64.796875 \r\nz\r\nM 9.8125 72.90625 \r\nL 32.078125 72.90625 \r\nQ 44.34375 72.90625 50.609375 67.359375 \r\nQ 56.890625 61.8125 56.890625 51.125 \r\nQ 56.890625 40.328125 50.609375 34.8125 \r\nQ 44.34375 29.296875 32.078125 29.296875 \r\nL 19.671875 29.296875 \r\nL 19.671875 0 \r\nL 9.8125 0 \r\nz\r\n\" id=\"DejaVuSans-80\"/>\r\n       <path d=\"M 41.109375 46.296875 \r\nQ 39.59375 47.171875 37.8125 47.578125 \r\nQ 36.03125 48 33.890625 48 \r\nQ 26.265625 48 22.1875 43.046875 \r\nQ 18.109375 38.09375 18.109375 28.8125 \r\nL 18.109375 0 \r\nL 9.078125 0 \r\nL 9.078125 54.6875 \r\nL 18.109375 54.6875 \r\nL 18.109375 46.1875 \r\nQ 20.953125 51.171875 25.484375 53.578125 \r\nQ 30.03125 56 36.53125 56 \r\nQ 37.453125 56 38.578125 55.875 \r\nQ 39.703125 55.765625 41.0625 55.515625 \r\nz\r\n\" id=\"DejaVuSans-114\"/>\r\n       <path d=\"M 30.609375 48.390625 \r\nQ 23.390625 48.390625 19.1875 42.75 \r\nQ 14.984375 37.109375 14.984375 27.296875 \r\nQ 14.984375 17.484375 19.15625 11.84375 \r\nQ 23.34375 6.203125 30.609375 6.203125 \r\nQ 37.796875 6.203125 41.984375 11.859375 \r\nQ 46.1875 17.53125 46.1875 27.296875 \r\nQ 46.1875 37.015625 41.984375 42.703125 \r\nQ 37.796875 48.390625 30.609375 48.390625 \r\nz\r\nM 30.609375 56 \r\nQ 42.328125 56 49.015625 48.375 \r\nQ 55.71875 40.765625 55.71875 27.296875 \r\nQ 55.71875 13.875 49.015625 6.21875 \r\nQ 42.328125 -1.421875 30.609375 -1.421875 \r\nQ 18.84375 -1.421875 12.171875 6.21875 \r\nQ 5.515625 13.875 5.515625 27.296875 \r\nQ 5.515625 40.765625 12.171875 48.375 \r\nQ 18.84375 56 30.609375 56 \r\nz\r\n\" id=\"DejaVuSans-111\"/>\r\n       <path d=\"M 48.6875 27.296875 \r\nQ 48.6875 37.203125 44.609375 42.84375 \r\nQ 40.53125 48.484375 33.40625 48.484375 \r\nQ 26.265625 48.484375 22.1875 42.84375 \r\nQ 18.109375 37.203125 18.109375 27.296875 \r\nQ 18.109375 17.390625 22.1875 11.75 \r\nQ 26.265625 6.109375 33.40625 6.109375 \r\nQ 40.53125 6.109375 44.609375 11.75 \r\nQ 48.6875 17.390625 48.6875 27.296875 \r\nz\r\nM 18.109375 46.390625 \r\nQ 20.953125 51.265625 25.265625 53.625 \r\nQ 29.59375 56 35.59375 56 \r\nQ 45.5625 56 51.78125 48.09375 \r\nQ 58.015625 40.1875 58.015625 27.296875 \r\nQ 58.015625 14.40625 51.78125 6.484375 \r\nQ 45.5625 -1.421875 35.59375 -1.421875 \r\nQ 29.59375 -1.421875 25.265625 0.953125 \r\nQ 20.953125 3.328125 18.109375 8.203125 \r\nL 18.109375 0 \r\nL 9.078125 0 \r\nL 9.078125 75.984375 \r\nL 18.109375 75.984375 \r\nz\r\n\" id=\"DejaVuSans-98\"/>\r\n       <path d=\"M 50.984375 -16.609375 \r\nL 50.984375 -23.578125 \r\nL -0.984375 -23.578125 \r\nL -0.984375 -16.609375 \r\nz\r\n\" id=\"DejaVuSans-95\"/>\r\n       <path d=\"M 37.109375 75.984375 \r\nL 37.109375 68.5 \r\nL 28.515625 68.5 \r\nQ 23.6875 68.5 21.796875 66.546875 \r\nQ 19.921875 64.59375 19.921875 59.515625 \r\nL 19.921875 54.6875 \r\nL 34.71875 54.6875 \r\nL 34.71875 47.703125 \r\nL 19.921875 47.703125 \r\nL 19.921875 0 \r\nL 10.890625 0 \r\nL 10.890625 47.703125 \r\nL 2.296875 47.703125 \r\nL 2.296875 54.6875 \r\nL 10.890625 54.6875 \r\nL 10.890625 58.5 \r\nQ 10.890625 67.625 15.140625 71.796875 \r\nQ 19.390625 75.984375 28.609375 75.984375 \r\nz\r\n\" id=\"DejaVuSans-102\"/>\r\n      </defs>\r\n      <use xlink:href=\"#DejaVuSans-80\"/>\r\n      <use x=\"58.552734\" xlink:href=\"#DejaVuSans-114\"/>\r\n      <use x=\"97.416016\" xlink:href=\"#DejaVuSans-111\"/>\r\n      <use x=\"158.597656\" xlink:href=\"#DejaVuSans-98\"/>\r\n      <use x=\"222.074219\" xlink:href=\"#DejaVuSans-95\"/>\r\n      <use x=\"272.074219\" xlink:href=\"#DejaVuSans-111\"/>\r\n      <use x=\"333.255859\" xlink:href=\"#DejaVuSans-102\"/>\r\n      <use x=\"368.460938\" xlink:href=\"#DejaVuSans-95\"/>\r\n      <use x=\"418.460938\" xlink:href=\"#DejaVuSans-48\"/>\r\n     </g>\r\n    </g>\r\n   </g>\r\n   <g id=\"matplotlib.axis_2\">\r\n    <g id=\"ytick_1\">\r\n     <g id=\"line2d_7\">\r\n      <defs>\r\n       <path d=\"M 0 0 \r\nL -3.5 0 \r\n\" id=\"m87d5df2c05\" style=\"stroke:#000000;stroke-width:0.8;\"/>\r\n      </defs>\r\n      <g>\r\n       <use style=\"stroke:#000000;stroke-width:0.8;\" x=\"53.328125\" xlink:href=\"#m87d5df2c05\" y=\"333.36\"/>\r\n      </g>\r\n     </g>\r\n     <g id=\"text_8\">\r\n      <!-- 0 -->\r\n      <g transform=\"translate(39.965625 337.159219)scale(0.1 -0.1)\">\r\n       <use xlink:href=\"#DejaVuSans-48\"/>\r\n      </g>\r\n     </g>\r\n    </g>\r\n    <g id=\"ytick_2\">\r\n     <g id=\"line2d_8\">\r\n      <g>\r\n       <use style=\"stroke:#000000;stroke-width:0.8;\" x=\"53.328125\" xlink:href=\"#m87d5df2c05\" y=\"284.862175\"/>\r\n      </g>\r\n     </g>\r\n     <g id=\"text_9\">\r\n      <!-- 200 -->\r\n      <g transform=\"translate(27.240625 288.661393)scale(0.1 -0.1)\">\r\n       <use xlink:href=\"#DejaVuSans-50\"/>\r\n       <use x=\"63.623047\" xlink:href=\"#DejaVuSans-48\"/>\r\n       <use x=\"127.246094\" xlink:href=\"#DejaVuSans-48\"/>\r\n      </g>\r\n     </g>\r\n    </g>\r\n    <g id=\"ytick_3\">\r\n     <g id=\"line2d_9\">\r\n      <g>\r\n       <use style=\"stroke:#000000;stroke-width:0.8;\" x=\"53.328125\" xlink:href=\"#m87d5df2c05\" y=\"236.364349\"/>\r\n      </g>\r\n     </g>\r\n     <g id=\"text_10\">\r\n      <!-- 400 -->\r\n      <g transform=\"translate(27.240625 240.163568)scale(0.1 -0.1)\">\r\n       <use xlink:href=\"#DejaVuSans-52\"/>\r\n       <use x=\"63.623047\" xlink:href=\"#DejaVuSans-48\"/>\r\n       <use x=\"127.246094\" xlink:href=\"#DejaVuSans-48\"/>\r\n      </g>\r\n     </g>\r\n    </g>\r\n    <g id=\"ytick_4\">\r\n     <g id=\"line2d_10\">\r\n      <g>\r\n       <use style=\"stroke:#000000;stroke-width:0.8;\" x=\"53.328125\" xlink:href=\"#m87d5df2c05\" y=\"187.866524\"/>\r\n      </g>\r\n     </g>\r\n     <g id=\"text_11\">\r\n      <!-- 600 -->\r\n      <g transform=\"translate(27.240625 191.665743)scale(0.1 -0.1)\">\r\n       <use xlink:href=\"#DejaVuSans-54\"/>\r\n       <use x=\"63.623047\" xlink:href=\"#DejaVuSans-48\"/>\r\n       <use x=\"127.246094\" xlink:href=\"#DejaVuSans-48\"/>\r\n      </g>\r\n     </g>\r\n    </g>\r\n    <g id=\"ytick_5\">\r\n     <g id=\"line2d_11\">\r\n      <g>\r\n       <use style=\"stroke:#000000;stroke-width:0.8;\" x=\"53.328125\" xlink:href=\"#m87d5df2c05\" y=\"139.368699\"/>\r\n      </g>\r\n     </g>\r\n     <g id=\"text_12\">\r\n      <!-- 800 -->\r\n      <g transform=\"translate(27.240625 143.167917)scale(0.1 -0.1)\">\r\n       <use xlink:href=\"#DejaVuSans-56\"/>\r\n       <use x=\"63.623047\" xlink:href=\"#DejaVuSans-48\"/>\r\n       <use x=\"127.246094\" xlink:href=\"#DejaVuSans-48\"/>\r\n      </g>\r\n     </g>\r\n    </g>\r\n    <g id=\"ytick_6\">\r\n     <g id=\"line2d_12\">\r\n      <g>\r\n       <use style=\"stroke:#000000;stroke-width:0.8;\" x=\"53.328125\" xlink:href=\"#m87d5df2c05\" y=\"90.870873\"/>\r\n      </g>\r\n     </g>\r\n     <g id=\"text_13\">\r\n      <!-- 1000 -->\r\n      <g transform=\"translate(20.878125 94.670092)scale(0.1 -0.1)\">\r\n       <use xlink:href=\"#DejaVuSans-49\"/>\r\n       <use x=\"63.623047\" xlink:href=\"#DejaVuSans-48\"/>\r\n       <use x=\"127.246094\" xlink:href=\"#DejaVuSans-48\"/>\r\n       <use x=\"190.869141\" xlink:href=\"#DejaVuSans-48\"/>\r\n      </g>\r\n     </g>\r\n    </g>\r\n    <g id=\"ytick_7\">\r\n     <g id=\"line2d_13\">\r\n      <g>\r\n       <use style=\"stroke:#000000;stroke-width:0.8;\" x=\"53.328125\" xlink:href=\"#m87d5df2c05\" y=\"42.373048\"/>\r\n      </g>\r\n     </g>\r\n     <g id=\"text_14\">\r\n      <!-- 1200 -->\r\n      <g transform=\"translate(20.878125 46.172267)scale(0.1 -0.1)\">\r\n       <use xlink:href=\"#DejaVuSans-49\"/>\r\n       <use x=\"63.623047\" xlink:href=\"#DejaVuSans-50\"/>\r\n       <use x=\"127.246094\" xlink:href=\"#DejaVuSans-48\"/>\r\n       <use x=\"190.869141\" xlink:href=\"#DejaVuSans-48\"/>\r\n      </g>\r\n     </g>\r\n    </g>\r\n    <g id=\"text_15\">\r\n     <!-- Count -->\r\n     <g transform=\"translate(14.798438 185.128437)rotate(-90)scale(0.1 -0.1)\">\r\n      <defs>\r\n       <path d=\"M 64.40625 67.28125 \r\nL 64.40625 56.890625 \r\nQ 59.421875 61.53125 53.78125 63.8125 \r\nQ 48.140625 66.109375 41.796875 66.109375 \r\nQ 29.296875 66.109375 22.65625 58.46875 \r\nQ 16.015625 50.828125 16.015625 36.375 \r\nQ 16.015625 21.96875 22.65625 14.328125 \r\nQ 29.296875 6.6875 41.796875 6.6875 \r\nQ 48.140625 6.6875 53.78125 8.984375 \r\nQ 59.421875 11.28125 64.40625 15.921875 \r\nL 64.40625 5.609375 \r\nQ 59.234375 2.09375 53.4375 0.328125 \r\nQ 47.65625 -1.421875 41.21875 -1.421875 \r\nQ 24.65625 -1.421875 15.125 8.703125 \r\nQ 5.609375 18.84375 5.609375 36.375 \r\nQ 5.609375 53.953125 15.125 64.078125 \r\nQ 24.65625 74.21875 41.21875 74.21875 \r\nQ 47.75 74.21875 53.53125 72.484375 \r\nQ 59.328125 70.75 64.40625 67.28125 \r\nz\r\n\" id=\"DejaVuSans-67\"/>\r\n       <path d=\"M 8.5 21.578125 \r\nL 8.5 54.6875 \r\nL 17.484375 54.6875 \r\nL 17.484375 21.921875 \r\nQ 17.484375 14.15625 20.5 10.265625 \r\nQ 23.53125 6.390625 29.59375 6.390625 \r\nQ 36.859375 6.390625 41.078125 11.03125 \r\nQ 45.3125 15.671875 45.3125 23.6875 \r\nL 45.3125 54.6875 \r\nL 54.296875 54.6875 \r\nL 54.296875 0 \r\nL 45.3125 0 \r\nL 45.3125 8.40625 \r\nQ 42.046875 3.421875 37.71875 1 \r\nQ 33.40625 -1.421875 27.6875 -1.421875 \r\nQ 18.265625 -1.421875 13.375 4.4375 \r\nQ 8.5 10.296875 8.5 21.578125 \r\nz\r\nM 31.109375 56 \r\nz\r\n\" id=\"DejaVuSans-117\"/>\r\n       <path d=\"M 54.890625 33.015625 \r\nL 54.890625 0 \r\nL 45.90625 0 \r\nL 45.90625 32.71875 \r\nQ 45.90625 40.484375 42.875 44.328125 \r\nQ 39.84375 48.1875 33.796875 48.1875 \r\nQ 26.515625 48.1875 22.3125 43.546875 \r\nQ 18.109375 38.921875 18.109375 30.90625 \r\nL 18.109375 0 \r\nL 9.078125 0 \r\nL 9.078125 54.6875 \r\nL 18.109375 54.6875 \r\nL 18.109375 46.1875 \r\nQ 21.34375 51.125 25.703125 53.5625 \r\nQ 30.078125 56 35.796875 56 \r\nQ 45.21875 56 50.046875 50.171875 \r\nQ 54.890625 44.34375 54.890625 33.015625 \r\nz\r\n\" id=\"DejaVuSans-110\"/>\r\n       <path d=\"M 18.3125 70.21875 \r\nL 18.3125 54.6875 \r\nL 36.8125 54.6875 \r\nL 36.8125 47.703125 \r\nL 18.3125 47.703125 \r\nL 18.3125 18.015625 \r\nQ 18.3125 11.328125 20.140625 9.421875 \r\nQ 21.96875 7.515625 27.59375 7.515625 \r\nL 36.8125 7.515625 \r\nL 36.8125 0 \r\nL 27.59375 0 \r\nQ 17.1875 0 13.234375 3.875 \r\nQ 9.28125 7.765625 9.28125 18.015625 \r\nL 9.28125 47.703125 \r\nL 2.6875 47.703125 \r\nL 2.6875 54.6875 \r\nL 9.28125 54.6875 \r\nL 9.28125 70.21875 \r\nz\r\n\" id=\"DejaVuSans-116\"/>\r\n      </defs>\r\n      <use xlink:href=\"#DejaVuSans-67\"/>\r\n      <use x=\"69.824219\" xlink:href=\"#DejaVuSans-111\"/>\r\n      <use x=\"131.005859\" xlink:href=\"#DejaVuSans-117\"/>\r\n      <use x=\"194.384766\" xlink:href=\"#DejaVuSans-110\"/>\r\n      <use x=\"257.763672\" xlink:href=\"#DejaVuSans-116\"/>\r\n     </g>\r\n    </g>\r\n   </g>\r\n   <g id=\"patch_50\">\r\n    <path d=\"M 53.328125 333.36 \r\nL 53.328125 7.2 \r\n\" style=\"fill:none;stroke:#000000;stroke-linecap:square;stroke-linejoin:miter;stroke-width:0.8;\"/>\r\n   </g>\r\n   <g id=\"patch_51\">\r\n    <path d=\"M 459.146307 333.36 \r\nL 459.146307 7.2 \r\n\" style=\"fill:none;stroke:#000000;stroke-linecap:square;stroke-linejoin:miter;stroke-width:0.8;\"/>\r\n   </g>\r\n   <g id=\"patch_52\">\r\n    <path d=\"M 53.328125 333.36 \r\nL 459.146307 333.36 \r\n\" style=\"fill:none;stroke:#000000;stroke-linecap:square;stroke-linejoin:miter;stroke-width:0.8;\"/>\r\n   </g>\r\n   <g id=\"patch_53\">\r\n    <path d=\"M 53.328125 7.2 \r\nL 459.146307 7.2 \r\n\" style=\"fill:none;stroke:#000000;stroke-linecap:square;stroke-linejoin:miter;stroke-width:0.8;\"/>\r\n   </g>\r\n  </g>\r\n  <g id=\"axes_2\">\r\n   <g id=\"patch_54\">\r\n    <path d=\"M 540.309943 333.36 \r\nL 946.128125 333.36 \r\nL 946.128125 7.2 \r\nL 540.309943 7.2 \r\nz\r\n\" style=\"fill:#ffffff;\"/>\r\n   </g>\r\n   <g id=\"patch_55\">\r\n    <path clip-path=\"url(#p667fd0d260)\" d=\"M 558.756224 333.36 \r\nL 566.605705 333.36 \r\nL 566.605705 323.417946 \r\nL 558.756224 323.417946 \r\nz\r\n\" style=\"fill:#ffa500;fill-opacity:0.75;stroke:#000000;stroke-linejoin:miter;stroke-width:0.784948;\"/>\r\n   </g>\r\n   <g id=\"patch_56\">\r\n    <path clip-path=\"url(#p667fd0d260)\" d=\"M 566.605705 333.36 \r\nL 574.455187 333.36 \r\nL 574.455187 305.958729 \r\nL 566.605705 305.958729 \r\nz\r\n\" style=\"fill:#ffa500;fill-opacity:0.75;stroke:#000000;stroke-linejoin:miter;stroke-width:0.784948;\"/>\r\n   </g>\r\n   <g id=\"patch_57\">\r\n    <path clip-path=\"url(#p667fd0d260)\" d=\"M 574.455187 333.36 \r\nL 582.304668 333.36 \r\nL 582.304668 285.589642 \r\nL 574.455187 285.589642 \r\nz\r\n\" style=\"fill:#ffa500;fill-opacity:0.75;stroke:#000000;stroke-linejoin:miter;stroke-width:0.784948;\"/>\r\n   </g>\r\n   <g id=\"patch_58\">\r\n    <path clip-path=\"url(#p667fd0d260)\" d=\"M 582.304668 333.36 \r\nL 590.154149 333.36 \r\nL 590.154149 250.428719 \r\nL 582.304668 250.428719 \r\nz\r\n\" style=\"fill:#ffa500;fill-opacity:0.75;stroke:#000000;stroke-linejoin:miter;stroke-width:0.784948;\"/>\r\n   </g>\r\n   <g id=\"patch_59\">\r\n    <path clip-path=\"url(#p667fd0d260)\" d=\"M 590.154149 333.36 \r\nL 598.003631 333.36 \r\nL 598.003631 247.518849 \r\nL 590.154149 247.518849 \r\nz\r\n\" style=\"fill:#ffa500;fill-opacity:0.75;stroke:#000000;stroke-linejoin:miter;stroke-width:0.784948;\"/>\r\n   </g>\r\n   <g id=\"patch_60\">\r\n    <path clip-path=\"url(#p667fd0d260)\" d=\"M 598.003631 333.36 \r\nL 605.853112 333.36 \r\nL 605.853112 221.815002 \r\nL 598.003631 221.815002 \r\nz\r\n\" style=\"fill:#ffa500;fill-opacity:0.75;stroke:#000000;stroke-linejoin:miter;stroke-width:0.784948;\"/>\r\n   </g>\r\n   <g id=\"patch_61\">\r\n    <path clip-path=\"url(#p667fd0d260)\" d=\"M 605.853112 333.36 \r\nL 613.702593 333.36 \r\nL 613.702593 203.870806 \r\nL 605.853112 203.870806 \r\nz\r\n\" style=\"fill:#ffa500;fill-opacity:0.75;stroke:#000000;stroke-linejoin:miter;stroke-width:0.784948;\"/>\r\n   </g>\r\n   <g id=\"patch_62\">\r\n    <path clip-path=\"url(#p667fd0d260)\" d=\"M 613.702593 333.36 \r\nL 621.552074 333.36 \r\nL 621.552074 191.74635 \r\nL 613.702593 191.74635 \r\nz\r\n\" style=\"fill:#ffa500;fill-opacity:0.75;stroke:#000000;stroke-linejoin:miter;stroke-width:0.784948;\"/>\r\n   </g>\r\n   <g id=\"patch_63\">\r\n    <path clip-path=\"url(#p667fd0d260)\" d=\"M 621.552074 333.36 \r\nL 629.401556 333.36 \r\nL 629.401556 187.139057 \r\nL 621.552074 187.139057 \r\nz\r\n\" style=\"fill:#ffa500;fill-opacity:0.75;stroke:#000000;stroke-linejoin:miter;stroke-width:0.784948;\"/>\r\n   </g>\r\n   <g id=\"patch_64\">\r\n    <path clip-path=\"url(#p667fd0d260)\" d=\"M 629.401556 333.36 \r\nL 637.251037 333.36 \r\nL 637.251037 162.647655 \r\nL 629.401556 162.647655 \r\nz\r\n\" style=\"fill:#ffa500;fill-opacity:0.75;stroke:#000000;stroke-linejoin:miter;stroke-width:0.784948;\"/>\r\n   </g>\r\n   <g id=\"patch_65\">\r\n    <path clip-path=\"url(#p667fd0d260)\" d=\"M 637.251037 333.36 \r\nL 645.100518 333.36 \r\nL 645.100518 164.587568 \r\nL 637.251037 164.587568 \r\nz\r\n\" style=\"fill:#ffa500;fill-opacity:0.75;stroke:#000000;stroke-linejoin:miter;stroke-width:0.784948;\"/>\r\n   </g>\r\n   <g id=\"patch_66\">\r\n    <path clip-path=\"url(#p667fd0d260)\" d=\"M 645.100518 333.36 \r\nL 652.949999 333.36 \r\nL 652.949999 142.036079 \r\nL 645.100518 142.036079 \r\nz\r\n\" style=\"fill:#ffa500;fill-opacity:0.75;stroke:#000000;stroke-linejoin:miter;stroke-width:0.784948;\"/>\r\n   </g>\r\n   <g id=\"patch_67\">\r\n    <path clip-path=\"url(#p667fd0d260)\" d=\"M 652.949999 333.36 \r\nL 660.799481 333.36 \r\nL 660.799481 128.214199 \r\nL 652.949999 128.214199 \r\nz\r\n\" style=\"fill:#ffa500;fill-opacity:0.75;stroke:#000000;stroke-linejoin:miter;stroke-width:0.784948;\"/>\r\n   </g>\r\n   <g id=\"patch_68\">\r\n    <path clip-path=\"url(#p667fd0d260)\" d=\"M 660.799481 333.36 \r\nL 668.648962 333.36 \r\nL 668.648962 123.121927 \r\nL 660.799481 123.121927 \r\nz\r\n\" style=\"fill:#ffa500;fill-opacity:0.75;stroke:#000000;stroke-linejoin:miter;stroke-width:0.784948;\"/>\r\n   </g>\r\n   <g id=\"patch_69\">\r\n    <path clip-path=\"url(#p667fd0d260)\" d=\"M 668.648962 333.36 \r\nL 676.498443 333.36 \r\nL 676.498443 126.274286 \r\nL 668.648962 126.274286 \r\nz\r\n\" style=\"fill:#ffa500;fill-opacity:0.75;stroke:#000000;stroke-linejoin:miter;stroke-width:0.784948;\"/>\r\n   </g>\r\n   <g id=\"patch_70\">\r\n    <path clip-path=\"url(#p667fd0d260)\" d=\"M 676.498443 333.36 \r\nL 684.347925 333.36 \r\nL 684.347925 105.177732 \r\nL 676.498443 105.177732 \r\nz\r\n\" style=\"fill:#ffa500;fill-opacity:0.75;stroke:#000000;stroke-linejoin:miter;stroke-width:0.784948;\"/>\r\n   </g>\r\n   <g id=\"patch_71\">\r\n    <path clip-path=\"url(#p667fd0d260)\" d=\"M 684.347925 333.36 \r\nL 692.197406 333.36 \r\nL 692.197406 107.602623 \r\nL 684.347925 107.602623 \r\nz\r\n\" style=\"fill:#ffa500;fill-opacity:0.75;stroke:#000000;stroke-linejoin:miter;stroke-width:0.784948;\"/>\r\n   </g>\r\n   <g id=\"patch_72\">\r\n    <path clip-path=\"url(#p667fd0d260)\" d=\"M 692.197406 333.36 \r\nL 700.046887 333.36 \r\nL 700.046887 89.900917 \r\nL 692.197406 89.900917 \r\nz\r\n\" style=\"fill:#ffa500;fill-opacity:0.75;stroke:#000000;stroke-linejoin:miter;stroke-width:0.784948;\"/>\r\n   </g>\r\n   <g id=\"patch_73\">\r\n    <path clip-path=\"url(#p667fd0d260)\" d=\"M 700.046887 333.36 \r\nL 707.896368 333.36 \r\nL 707.896368 79.716373 \r\nL 700.046887 79.716373 \r\nz\r\n\" style=\"fill:#ffa500;fill-opacity:0.75;stroke:#000000;stroke-linejoin:miter;stroke-width:0.784948;\"/>\r\n   </g>\r\n   <g id=\"patch_74\">\r\n    <path clip-path=\"url(#p667fd0d260)\" d=\"M 707.896368 333.36 \r\nL 715.74585 333.36 \r\nL 715.74585 62.499645 \r\nL 707.896368 62.499645 \r\nz\r\n\" style=\"fill:#ffa500;fill-opacity:0.75;stroke:#000000;stroke-linejoin:miter;stroke-width:0.784948;\"/>\r\n   </g>\r\n   <g id=\"patch_75\">\r\n    <path clip-path=\"url(#p667fd0d260)\" d=\"M 715.74585 333.36 \r\nL 723.595331 333.36 \r\nL 723.595331 64.924537 \r\nL 715.74585 64.924537 \r\nz\r\n\" style=\"fill:#ffa500;fill-opacity:0.75;stroke:#000000;stroke-linejoin:miter;stroke-width:0.784948;\"/>\r\n   </g>\r\n   <g id=\"patch_76\">\r\n    <path clip-path=\"url(#p667fd0d260)\" d=\"M 723.595331 333.36 \r\nL 731.444812 333.36 \r\nL 731.444812 64.682048 \r\nL 723.595331 64.682048 \r\nz\r\n\" style=\"fill:#ffa500;fill-opacity:0.75;stroke:#000000;stroke-linejoin:miter;stroke-width:0.784948;\"/>\r\n   </g>\r\n   <g id=\"patch_77\">\r\n    <path clip-path=\"url(#p667fd0d260)\" d=\"M 731.444812 333.36 \r\nL 739.294293 333.36 \r\nL 739.294293 72.4417 \r\nL 731.444812 72.4417 \r\nz\r\n\" style=\"fill:#ffa500;fill-opacity:0.75;stroke:#000000;stroke-linejoin:miter;stroke-width:0.784948;\"/>\r\n   </g>\r\n   <g id=\"patch_78\">\r\n    <path clip-path=\"url(#p667fd0d260)\" d=\"M 739.294293 333.36 \r\nL 747.143775 333.36 \r\nL 747.143775 53.042569 \r\nL 739.294293 53.042569 \r\nz\r\n\" style=\"fill:#ffa500;fill-opacity:0.75;stroke:#000000;stroke-linejoin:miter;stroke-width:0.784948;\"/>\r\n   </g>\r\n   <g id=\"patch_79\">\r\n    <path clip-path=\"url(#p667fd0d260)\" d=\"M 747.143775 333.36 \r\nL 754.993256 333.36 \r\nL 754.993256 62.499645 \r\nL 747.143775 62.499645 \r\nz\r\n\" style=\"fill:#ffa500;fill-opacity:0.75;stroke:#000000;stroke-linejoin:miter;stroke-width:0.784948;\"/>\r\n   </g>\r\n   <g id=\"patch_80\">\r\n    <path clip-path=\"url(#p667fd0d260)\" d=\"M 754.993256 333.36 \r\nL 762.842737 333.36 \r\nL 762.842737 42.615537 \r\nL 754.993256 42.615537 \r\nz\r\n\" style=\"fill:#ffa500;fill-opacity:0.75;stroke:#000000;stroke-linejoin:miter;stroke-width:0.784948;\"/>\r\n   </g>\r\n   <g id=\"patch_81\">\r\n    <path clip-path=\"url(#p667fd0d260)\" d=\"M 762.842737 333.36 \r\nL 770.692219 333.36 \r\nL 770.692219 46.010385 \r\nL 762.842737 46.010385 \r\nz\r\n\" style=\"fill:#ffa500;fill-opacity:0.75;stroke:#000000;stroke-linejoin:miter;stroke-width:0.784948;\"/>\r\n   </g>\r\n   <g id=\"patch_82\">\r\n    <path clip-path=\"url(#p667fd0d260)\" d=\"M 770.692219 333.36 \r\nL 778.5417 333.36 \r\nL 778.5417 46.010385 \r\nL 770.692219 46.010385 \r\nz\r\n\" style=\"fill:#ffa500;fill-opacity:0.75;stroke:#000000;stroke-linejoin:miter;stroke-width:0.784948;\"/>\r\n   </g>\r\n   <g id=\"patch_83\">\r\n    <path clip-path=\"url(#p667fd0d260)\" d=\"M 778.5417 333.36 \r\nL 786.391181 333.36 \r\nL 786.391181 22.731429 \r\nL 778.5417 22.731429 \r\nz\r\n\" style=\"fill:#ffa500;fill-opacity:0.75;stroke:#000000;stroke-linejoin:miter;stroke-width:0.784948;\"/>\r\n   </g>\r\n   <g id=\"patch_84\">\r\n    <path clip-path=\"url(#p667fd0d260)\" d=\"M 786.391181 333.36 \r\nL 794.240662 333.36 \r\nL 794.240662 40.433135 \r\nL 786.391181 40.433135 \r\nz\r\n\" style=\"fill:#ffa500;fill-opacity:0.75;stroke:#000000;stroke-linejoin:miter;stroke-width:0.784948;\"/>\r\n   </g>\r\n   <g id=\"patch_85\">\r\n    <path clip-path=\"url(#p667fd0d260)\" d=\"M 794.240662 333.36 \r\nL 802.090144 333.36 \r\nL 802.090144 47.707809 \r\nL 794.240662 47.707809 \r\nz\r\n\" style=\"fill:#ffa500;fill-opacity:0.75;stroke:#000000;stroke-linejoin:miter;stroke-width:0.784948;\"/>\r\n   </g>\r\n   <g id=\"patch_86\">\r\n    <path clip-path=\"url(#p667fd0d260)\" d=\"M 802.090144 333.36 \r\nL 809.939625 333.36 \r\nL 809.939625 30.73357 \r\nL 802.090144 30.73357 \r\nz\r\n\" style=\"fill:#ffa500;fill-opacity:0.75;stroke:#000000;stroke-linejoin:miter;stroke-width:0.784948;\"/>\r\n   </g>\r\n   <g id=\"patch_87\">\r\n    <path clip-path=\"url(#p667fd0d260)\" d=\"M 809.939625 333.36 \r\nL 817.789106 333.36 \r\nL 817.789106 30.248592 \r\nL 809.939625 30.248592 \r\nz\r\n\" style=\"fill:#ffa500;fill-opacity:0.75;stroke:#000000;stroke-linejoin:miter;stroke-width:0.784948;\"/>\r\n   </g>\r\n   <g id=\"patch_88\">\r\n    <path clip-path=\"url(#p667fd0d260)\" d=\"M 817.789106 333.36 \r\nL 825.638587 333.36 \r\nL 825.638587 44.312961 \r\nL 817.789106 44.312961 \r\nz\r\n\" style=\"fill:#ffa500;fill-opacity:0.75;stroke:#000000;stroke-linejoin:miter;stroke-width:0.784948;\"/>\r\n   </g>\r\n   <g id=\"patch_89\">\r\n    <path clip-path=\"url(#p667fd0d260)\" d=\"M 825.638587 333.36 \r\nL 833.488069 333.36 \r\nL 833.488069 60.802221 \r\nL 825.638587 60.802221 \r\nz\r\n\" style=\"fill:#ffa500;fill-opacity:0.75;stroke:#000000;stroke-linejoin:miter;stroke-width:0.784948;\"/>\r\n   </g>\r\n   <g id=\"patch_90\">\r\n    <path clip-path=\"url(#p667fd0d260)\" d=\"M 833.488069 333.36 \r\nL 841.33755 333.36 \r\nL 841.33755 62.014667 \r\nL 833.488069 62.014667 \r\nz\r\n\" style=\"fill:#ffa500;fill-opacity:0.75;stroke:#000000;stroke-linejoin:miter;stroke-width:0.784948;\"/>\r\n   </g>\r\n   <g id=\"patch_91\">\r\n    <path clip-path=\"url(#p667fd0d260)\" d=\"M 841.33755 333.36 \r\nL 849.187031 333.36 \r\nL 849.187031 80.68633 \r\nL 841.33755 80.68633 \r\nz\r\n\" style=\"fill:#ffa500;fill-opacity:0.75;stroke:#000000;stroke-linejoin:miter;stroke-width:0.784948;\"/>\r\n   </g>\r\n   <g id=\"patch_92\">\r\n    <path clip-path=\"url(#p667fd0d260)\" d=\"M 849.187031 333.36 \r\nL 857.036513 333.36 \r\nL 857.036513 63.712091 \r\nL 849.187031 63.712091 \r\nz\r\n\" style=\"fill:#ffa500;fill-opacity:0.75;stroke:#000000;stroke-linejoin:miter;stroke-width:0.784948;\"/>\r\n   </g>\r\n   <g id=\"patch_93\">\r\n    <path clip-path=\"url(#p667fd0d260)\" d=\"M 857.036513 333.36 \r\nL 864.885994 333.36 \r\nL 864.885994 106.875156 \r\nL 857.036513 106.875156 \r\nz\r\n\" style=\"fill:#ffa500;fill-opacity:0.75;stroke:#000000;stroke-linejoin:miter;stroke-width:0.784948;\"/>\r\n   </g>\r\n   <g id=\"patch_94\">\r\n    <path clip-path=\"url(#p667fd0d260)\" d=\"M 864.885994 333.36 \r\nL 872.735475 333.36 \r\nL 872.735475 106.147688 \r\nL 864.885994 106.147688 \r\nz\r\n\" style=\"fill:#ffa500;fill-opacity:0.75;stroke:#000000;stroke-linejoin:miter;stroke-width:0.784948;\"/>\r\n   </g>\r\n   <g id=\"patch_95\">\r\n    <path clip-path=\"url(#p667fd0d260)\" d=\"M 872.735475 333.36 \r\nL 880.584956 333.36 \r\nL 880.584956 130.63909 \r\nL 872.735475 130.63909 \r\nz\r\n\" style=\"fill:#ffa500;fill-opacity:0.75;stroke:#000000;stroke-linejoin:miter;stroke-width:0.784948;\"/>\r\n   </g>\r\n   <g id=\"patch_96\">\r\n    <path clip-path=\"url(#p667fd0d260)\" d=\"M 880.584956 333.36 \r\nL 888.434438 333.36 \r\nL 888.434438 142.036079 \r\nL 880.584956 142.036079 \r\nz\r\n\" style=\"fill:#ffa500;fill-opacity:0.75;stroke:#000000;stroke-linejoin:miter;stroke-width:0.784948;\"/>\r\n   </g>\r\n   <g id=\"patch_97\">\r\n    <path clip-path=\"url(#p667fd0d260)\" d=\"M 888.434438 333.36 \r\nL 896.283919 333.36 \r\nL 896.283919 161.435209 \r\nL 888.434438 161.435209 \r\nz\r\n\" style=\"fill:#ffa500;fill-opacity:0.75;stroke:#000000;stroke-linejoin:miter;stroke-width:0.784948;\"/>\r\n   </g>\r\n   <g id=\"patch_98\">\r\n    <path clip-path=\"url(#p667fd0d260)\" d=\"M 896.283919 333.36 \r\nL 904.1334 333.36 \r\nL 904.1334 173.317176 \r\nL 896.283919 173.317176 \r\nz\r\n\" style=\"fill:#ffa500;fill-opacity:0.75;stroke:#000000;stroke-linejoin:miter;stroke-width:0.784948;\"/>\r\n   </g>\r\n   <g id=\"patch_99\">\r\n    <path clip-path=\"url(#p667fd0d260)\" d=\"M 904.1334 333.36 \r\nL 911.982881 333.36 \r\nL 911.982881 218.420154 \r\nL 904.1334 218.420154 \r\nz\r\n\" style=\"fill:#ffa500;fill-opacity:0.75;stroke:#000000;stroke-linejoin:miter;stroke-width:0.784948;\"/>\r\n   </g>\r\n   <g id=\"patch_100\">\r\n    <path clip-path=\"url(#p667fd0d260)\" d=\"M 911.982881 333.36 \r\nL 919.832363 333.36 \r\nL 919.832363 245.821425 \r\nL 911.982881 245.821425 \r\nz\r\n\" style=\"fill:#ffa500;fill-opacity:0.75;stroke:#000000;stroke-linejoin:miter;stroke-width:0.784948;\"/>\r\n   </g>\r\n   <g id=\"patch_101\">\r\n    <path clip-path=\"url(#p667fd0d260)\" d=\"M 919.832363 333.36 \r\nL 927.681844 333.36 \r\nL 927.681844 306.201218 \r\nL 919.832363 306.201218 \r\nz\r\n\" style=\"fill:#ffa500;fill-opacity:0.75;stroke:#000000;stroke-linejoin:miter;stroke-width:0.784948;\"/>\r\n   </g>\r\n   <g id=\"matplotlib.axis_3\">\r\n    <g id=\"xtick_7\">\r\n     <g id=\"line2d_14\">\r\n      <g>\r\n       <use style=\"stroke:#000000;stroke-width:0.8;\" x=\"556.150254\" xlink:href=\"#m51a84d5617\" y=\"333.36\"/>\r\n      </g>\r\n     </g>\r\n     <g id=\"text_16\">\r\n      <!-- 0.0 -->\r\n      <g transform=\"translate(548.198691 347.958438)scale(0.1 -0.1)\">\r\n       <use xlink:href=\"#DejaVuSans-48\"/>\r\n       <use x=\"63.623047\" xlink:href=\"#DejaVuSans-46\"/>\r\n       <use x=\"95.410156\" xlink:href=\"#DejaVuSans-48\"/>\r\n      </g>\r\n     </g>\r\n    </g>\r\n    <g id=\"xtick_8\">\r\n     <g id=\"line2d_15\">\r\n      <g>\r\n       <use style=\"stroke:#000000;stroke-width:0.8;\" x=\"630.899938\" xlink:href=\"#m51a84d5617\" y=\"333.36\"/>\r\n      </g>\r\n     </g>\r\n     <g id=\"text_17\">\r\n      <!-- 0.2 -->\r\n      <g transform=\"translate(622.948376 347.958438)scale(0.1 -0.1)\">\r\n       <use xlink:href=\"#DejaVuSans-48\"/>\r\n       <use x=\"63.623047\" xlink:href=\"#DejaVuSans-46\"/>\r\n       <use x=\"95.410156\" xlink:href=\"#DejaVuSans-50\"/>\r\n      </g>\r\n     </g>\r\n    </g>\r\n    <g id=\"xtick_9\">\r\n     <g id=\"line2d_16\">\r\n      <g>\r\n       <use style=\"stroke:#000000;stroke-width:0.8;\" x=\"705.649623\" xlink:href=\"#m51a84d5617\" y=\"333.36\"/>\r\n      </g>\r\n     </g>\r\n     <g id=\"text_18\">\r\n      <!-- 0.4 -->\r\n      <g transform=\"translate(697.698061 347.958438)scale(0.1 -0.1)\">\r\n       <use xlink:href=\"#DejaVuSans-48\"/>\r\n       <use x=\"63.623047\" xlink:href=\"#DejaVuSans-46\"/>\r\n       <use x=\"95.410156\" xlink:href=\"#DejaVuSans-52\"/>\r\n      </g>\r\n     </g>\r\n    </g>\r\n    <g id=\"xtick_10\">\r\n     <g id=\"line2d_17\">\r\n      <g>\r\n       <use style=\"stroke:#000000;stroke-width:0.8;\" x=\"780.399308\" xlink:href=\"#m51a84d5617\" y=\"333.36\"/>\r\n      </g>\r\n     </g>\r\n     <g id=\"text_19\">\r\n      <!-- 0.6 -->\r\n      <g transform=\"translate(772.447746 347.958438)scale(0.1 -0.1)\">\r\n       <use xlink:href=\"#DejaVuSans-48\"/>\r\n       <use x=\"63.623047\" xlink:href=\"#DejaVuSans-46\"/>\r\n       <use x=\"95.410156\" xlink:href=\"#DejaVuSans-54\"/>\r\n      </g>\r\n     </g>\r\n    </g>\r\n    <g id=\"xtick_11\">\r\n     <g id=\"line2d_18\">\r\n      <g>\r\n       <use style=\"stroke:#000000;stroke-width:0.8;\" x=\"855.148993\" xlink:href=\"#m51a84d5617\" y=\"333.36\"/>\r\n      </g>\r\n     </g>\r\n     <g id=\"text_20\">\r\n      <!-- 0.8 -->\r\n      <g transform=\"translate(847.19743 347.958438)scale(0.1 -0.1)\">\r\n       <use xlink:href=\"#DejaVuSans-48\"/>\r\n       <use x=\"63.623047\" xlink:href=\"#DejaVuSans-46\"/>\r\n       <use x=\"95.410156\" xlink:href=\"#DejaVuSans-56\"/>\r\n      </g>\r\n     </g>\r\n    </g>\r\n    <g id=\"xtick_12\">\r\n     <g id=\"line2d_19\">\r\n      <g>\r\n       <use style=\"stroke:#000000;stroke-width:0.8;\" x=\"929.898678\" xlink:href=\"#m51a84d5617\" y=\"333.36\"/>\r\n      </g>\r\n     </g>\r\n     <g id=\"text_21\">\r\n      <!-- 1.0 -->\r\n      <g transform=\"translate(921.947115 347.958438)scale(0.1 -0.1)\">\r\n       <use xlink:href=\"#DejaVuSans-49\"/>\r\n       <use x=\"63.623047\" xlink:href=\"#DejaVuSans-46\"/>\r\n       <use x=\"95.410156\" xlink:href=\"#DejaVuSans-48\"/>\r\n      </g>\r\n     </g>\r\n    </g>\r\n    <g id=\"text_22\">\r\n     <!-- Prob_of_1 -->\r\n     <g transform=\"translate(719.114347 361.636562)scale(0.1 -0.1)\">\r\n      <use xlink:href=\"#DejaVuSans-80\"/>\r\n      <use x=\"58.552734\" xlink:href=\"#DejaVuSans-114\"/>\r\n      <use x=\"97.416016\" xlink:href=\"#DejaVuSans-111\"/>\r\n      <use x=\"158.597656\" xlink:href=\"#DejaVuSans-98\"/>\r\n      <use x=\"222.074219\" xlink:href=\"#DejaVuSans-95\"/>\r\n      <use x=\"272.074219\" xlink:href=\"#DejaVuSans-111\"/>\r\n      <use x=\"333.255859\" xlink:href=\"#DejaVuSans-102\"/>\r\n      <use x=\"368.460938\" xlink:href=\"#DejaVuSans-95\"/>\r\n      <use x=\"418.460938\" xlink:href=\"#DejaVuSans-49\"/>\r\n     </g>\r\n    </g>\r\n   </g>\r\n   <g id=\"matplotlib.axis_4\">\r\n    <g id=\"ytick_8\">\r\n     <g id=\"line2d_20\">\r\n      <g>\r\n       <use style=\"stroke:#000000;stroke-width:0.8;\" x=\"540.309943\" xlink:href=\"#m87d5df2c05\" y=\"333.36\"/>\r\n      </g>\r\n     </g>\r\n     <g id=\"text_23\">\r\n      <!-- 0 -->\r\n      <g transform=\"translate(526.947443 337.159219)scale(0.1 -0.1)\">\r\n       <use xlink:href=\"#DejaVuSans-48\"/>\r\n      </g>\r\n     </g>\r\n    </g>\r\n    <g id=\"ytick_9\">\r\n     <g id=\"line2d_21\">\r\n      <g>\r\n       <use style=\"stroke:#000000;stroke-width:0.8;\" x=\"540.309943\" xlink:href=\"#m87d5df2c05\" y=\"284.862175\"/>\r\n      </g>\r\n     </g>\r\n     <g id=\"text_24\">\r\n      <!-- 200 -->\r\n      <g transform=\"translate(514.222443 288.661393)scale(0.1 -0.1)\">\r\n       <use xlink:href=\"#DejaVuSans-50\"/>\r\n       <use x=\"63.623047\" xlink:href=\"#DejaVuSans-48\"/>\r\n       <use x=\"127.246094\" xlink:href=\"#DejaVuSans-48\"/>\r\n      </g>\r\n     </g>\r\n    </g>\r\n    <g id=\"ytick_10\">\r\n     <g id=\"line2d_22\">\r\n      <g>\r\n       <use style=\"stroke:#000000;stroke-width:0.8;\" x=\"540.309943\" xlink:href=\"#m87d5df2c05\" y=\"236.364349\"/>\r\n      </g>\r\n     </g>\r\n     <g id=\"text_25\">\r\n      <!-- 400 -->\r\n      <g transform=\"translate(514.222443 240.163568)scale(0.1 -0.1)\">\r\n       <use xlink:href=\"#DejaVuSans-52\"/>\r\n       <use x=\"63.623047\" xlink:href=\"#DejaVuSans-48\"/>\r\n       <use x=\"127.246094\" xlink:href=\"#DejaVuSans-48\"/>\r\n      </g>\r\n     </g>\r\n    </g>\r\n    <g id=\"ytick_11\">\r\n     <g id=\"line2d_23\">\r\n      <g>\r\n       <use style=\"stroke:#000000;stroke-width:0.8;\" x=\"540.309943\" xlink:href=\"#m87d5df2c05\" y=\"187.866524\"/>\r\n      </g>\r\n     </g>\r\n     <g id=\"text_26\">\r\n      <!-- 600 -->\r\n      <g transform=\"translate(514.222443 191.665743)scale(0.1 -0.1)\">\r\n       <use xlink:href=\"#DejaVuSans-54\"/>\r\n       <use x=\"63.623047\" xlink:href=\"#DejaVuSans-48\"/>\r\n       <use x=\"127.246094\" xlink:href=\"#DejaVuSans-48\"/>\r\n      </g>\r\n     </g>\r\n    </g>\r\n    <g id=\"ytick_12\">\r\n     <g id=\"line2d_24\">\r\n      <g>\r\n       <use style=\"stroke:#000000;stroke-width:0.8;\" x=\"540.309943\" xlink:href=\"#m87d5df2c05\" y=\"139.368699\"/>\r\n      </g>\r\n     </g>\r\n     <g id=\"text_27\">\r\n      <!-- 800 -->\r\n      <g transform=\"translate(514.222443 143.167917)scale(0.1 -0.1)\">\r\n       <use xlink:href=\"#DejaVuSans-56\"/>\r\n       <use x=\"63.623047\" xlink:href=\"#DejaVuSans-48\"/>\r\n       <use x=\"127.246094\" xlink:href=\"#DejaVuSans-48\"/>\r\n      </g>\r\n     </g>\r\n    </g>\r\n    <g id=\"ytick_13\">\r\n     <g id=\"line2d_25\">\r\n      <g>\r\n       <use style=\"stroke:#000000;stroke-width:0.8;\" x=\"540.309943\" xlink:href=\"#m87d5df2c05\" y=\"90.870873\"/>\r\n      </g>\r\n     </g>\r\n     <g id=\"text_28\">\r\n      <!-- 1000 -->\r\n      <g transform=\"translate(507.859943 94.670092)scale(0.1 -0.1)\">\r\n       <use xlink:href=\"#DejaVuSans-49\"/>\r\n       <use x=\"63.623047\" xlink:href=\"#DejaVuSans-48\"/>\r\n       <use x=\"127.246094\" xlink:href=\"#DejaVuSans-48\"/>\r\n       <use x=\"190.869141\" xlink:href=\"#DejaVuSans-48\"/>\r\n      </g>\r\n     </g>\r\n    </g>\r\n    <g id=\"ytick_14\">\r\n     <g id=\"line2d_26\">\r\n      <g>\r\n       <use style=\"stroke:#000000;stroke-width:0.8;\" x=\"540.309943\" xlink:href=\"#m87d5df2c05\" y=\"42.373048\"/>\r\n      </g>\r\n     </g>\r\n     <g id=\"text_29\">\r\n      <!-- 1200 -->\r\n      <g transform=\"translate(507.859943 46.172267)scale(0.1 -0.1)\">\r\n       <use xlink:href=\"#DejaVuSans-49\"/>\r\n       <use x=\"63.623047\" xlink:href=\"#DejaVuSans-50\"/>\r\n       <use x=\"127.246094\" xlink:href=\"#DejaVuSans-48\"/>\r\n       <use x=\"190.869141\" xlink:href=\"#DejaVuSans-48\"/>\r\n      </g>\r\n     </g>\r\n    </g>\r\n    <g id=\"text_30\">\r\n     <!-- Count -->\r\n     <g transform=\"translate(501.780256 185.128437)rotate(-90)scale(0.1 -0.1)\">\r\n      <use xlink:href=\"#DejaVuSans-67\"/>\r\n      <use x=\"69.824219\" xlink:href=\"#DejaVuSans-111\"/>\r\n      <use x=\"131.005859\" xlink:href=\"#DejaVuSans-117\"/>\r\n      <use x=\"194.384766\" xlink:href=\"#DejaVuSans-110\"/>\r\n      <use x=\"257.763672\" xlink:href=\"#DejaVuSans-116\"/>\r\n     </g>\r\n    </g>\r\n   </g>\r\n   <g id=\"patch_102\">\r\n    <path d=\"M 540.309943 333.36 \r\nL 540.309943 7.2 \r\n\" style=\"fill:none;stroke:#000000;stroke-linecap:square;stroke-linejoin:miter;stroke-width:0.8;\"/>\r\n   </g>\r\n   <g id=\"patch_103\">\r\n    <path d=\"M 946.128125 333.36 \r\nL 946.128125 7.2 \r\n\" style=\"fill:none;stroke:#000000;stroke-linecap:square;stroke-linejoin:miter;stroke-width:0.8;\"/>\r\n   </g>\r\n   <g id=\"patch_104\">\r\n    <path d=\"M 540.309943 333.36 \r\nL 946.128125 333.36 \r\n\" style=\"fill:none;stroke:#000000;stroke-linecap:square;stroke-linejoin:miter;stroke-width:0.8;\"/>\r\n   </g>\r\n   <g id=\"patch_105\">\r\n    <path d=\"M 540.309943 7.2 \r\nL 946.128125 7.2 \r\n\" style=\"fill:none;stroke:#000000;stroke-linecap:square;stroke-linejoin:miter;stroke-width:0.8;\"/>\r\n   </g>\r\n  </g>\r\n </g>\r\n <defs>\r\n  <clipPath id=\"pa009497835\">\r\n   <rect height=\"326.16\" width=\"405.818182\" x=\"53.328125\" y=\"7.2\"/>\r\n  </clipPath>\r\n  <clipPath id=\"p667fd0d260\">\r\n   <rect height=\"326.16\" width=\"405.818182\" x=\"540.309943\" y=\"7.2\"/>\r\n  </clipPath>\r\n </defs>\r\n</svg>\r\n",
      "image/png": "[encoded data removed]"
     },
     "metadata": {
      "needs_background": "light"
     }
    }
   ],
   "source": [
    "fig, axs = plt.subplots(ncols=2, figsize=(16, 6))\n",
    "sns.histplot(preds['Prob_of_0'], color='green', ax=axs[0])\n",
    "sns.histplot(preds['Prob_of_1'], color='orange', ax=axs[1]);\n"
   ]
  },
  {
   "cell_type": "code",
   "execution_count": 92,
   "metadata": {},
   "outputs": [
    {
     "output_type": "stream",
     "name": "stdout",
     "text": [
      "Logistic regression accuracy score (test) 0.588\nRidge Clasifier accuracy score (test) 0.602\nNaive Bayes accuracy score (test) 0.604\nLinear SVM accuracy score (test) 0.602\n"
     ]
    }
   ],
   "source": [
    "# only passed\n",
    "df_test_text = test_passed_text\n",
    "df_test_partnumber = test_passed_partnumber\n",
    "df_test_features = test_passed_features\n",
    "y_test = y_passed_test\n",
    "X_test = test_the_model(df_test_text, \n",
    "                        df_test_partnumber, \n",
    "                        df_test_features, \n",
    "                        encoders = [tfidf_text_vectorizer, tfidf_partnumber_vectorizer, enc])\n",
    "print('Logistic regression accuracy score (test) %.3f' % accuracy_score(y_test, clf.predict(X_test)))\n",
    "print('Ridge Clasifier accuracy score (test) %.3f' % accuracy_score(y_test, clf2.predict(X_test)))\n",
    "print('Naive Bayes accuracy score (test) %.3f' % accuracy_score(y_test, clf3.predict(X_test)))\n",
    "print('Linear SVM accuracy score (test) %.3f' % accuracy_score(y_test, clf4.predict(X_test)))"
   ]
  },
  {
   "cell_type": "code",
   "execution_count": 93,
   "metadata": {},
   "outputs": [
    {
     "output_type": "stream",
     "name": "stdout",
     "text": [
      "Logistic regression accuracy score (test) 0.742\nRidge Clasifier accuracy score (test) 0.719\nNaive Bayes accuracy score (test) 0.710\nLinear SVM accuracy score (test) 0.705\n"
     ]
    }
   ],
   "source": [
    "# only failed\n",
    "df_test_text = test_failed_text\n",
    "df_test_partnumber = test_failed_partnumber\n",
    "df_test_features = test_failed_features\n",
    "y_test = y_failed_test\n",
    "X_test = test_the_model(df_test_text, \n",
    "                        df_test_partnumber, \n",
    "                        df_test_features, \n",
    "                        encoders = [tfidf_text_vectorizer, tfidf_partnumber_vectorizer, enc])\n",
    "print('Logistic regression accuracy score (test) %.3f' % accuracy_score(y_test, clf.predict(X_test)))\n",
    "print('Ridge Clasifier accuracy score (test) %.3f' % accuracy_score(y_test, clf2.predict(X_test)))\n",
    "print('Naive Bayes accuracy score (test) %.3f' % accuracy_score(y_test, clf3.predict(X_test)))\n",
    "print('Linear SVM accuracy score (test) %.3f' % accuracy_score(y_test, clf4.predict(X_test)))"
   ]
  },
  {
   "source": [
    "import joblib\n",
    "filename = 'finalized_model.sav'\n",
    "joblib.dump(clf, filename)"
   ],
   "cell_type": "code",
   "metadata": {},
   "execution_count": 97,
   "outputs": [
    {
     "output_type": "execute_result",
     "data": {
      "text/plain": [
       "['finalized_model.sav']"
      ]
     },
     "metadata": {},
     "execution_count": 97
    }
   ]
  },
  {
   "cell_type": "code",
   "execution_count": null,
   "metadata": {},
   "outputs": [],
   "source": [
    "# loaded_model = joblib.load(filename)\n",
    "# result = loaded_model.score(X_test, Y_test)\n",
    "# print(result)"
   ]
  }
 ]
}